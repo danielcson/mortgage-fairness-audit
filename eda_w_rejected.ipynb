{
 "cells": [
  {
   "cell_type": "code",
   "execution_count": 2,
   "metadata": {},
   "outputs": [],
   "source": [
    "import pandas as pd\n",
    "import numpy as np\n",
    "import matplotlib.pyplot as plt"
   ]
  },
  {
   "cell_type": "code",
   "execution_count": 3,
   "metadata": {},
   "outputs": [
    {
     "name": "stderr",
     "output_type": "stream",
     "text": [
      "/opt/homebrew/lib/python3.9/site-packages/IPython/core/interactiveshell.py:3444: DtypeWarning: Columns (34,36,38,44,46,48) have mixed types.Specify dtype option on import or set low_memory=False.\n",
      "  exec(code_obj, self.user_global_ns, self.user_ns)\n"
     ]
    }
   ],
   "source": [
    "df_orig = pd.read_csv('hmda_2017_nationwide_all-records_labels.csv')"
   ]
  },
  {
   "cell_type": "code",
   "execution_count": 4,
   "metadata": {},
   "outputs": [
    {
     "data": {
      "text/plain": [
       "Index(['as_of_year', 'respondent_id', 'agency_name', 'agency_abbr',\n",
       "       'agency_code', 'loan_type_name', 'loan_type', 'property_type_name',\n",
       "       'property_type', 'loan_purpose_name', 'loan_purpose',\n",
       "       'owner_occupancy_name', 'owner_occupancy', 'loan_amount_000s',\n",
       "       'preapproval_name', 'preapproval', 'action_taken_name', 'action_taken',\n",
       "       'msamd_name', 'msamd', 'state_name', 'state_abbr', 'state_code',\n",
       "       'county_name', 'county_code', 'census_tract_number',\n",
       "       'applicant_ethnicity_name', 'applicant_ethnicity',\n",
       "       'co_applicant_ethnicity_name', 'co_applicant_ethnicity',\n",
       "       'applicant_race_name_1', 'applicant_race_1', 'applicant_race_name_2',\n",
       "       'applicant_race_2', 'applicant_race_name_3', 'applicant_race_3',\n",
       "       'applicant_race_name_4', 'applicant_race_4', 'applicant_race_name_5',\n",
       "       'applicant_race_5', 'co_applicant_race_name_1', 'co_applicant_race_1',\n",
       "       'co_applicant_race_name_2', 'co_applicant_race_2',\n",
       "       'co_applicant_race_name_3', 'co_applicant_race_3',\n",
       "       'co_applicant_race_name_4', 'co_applicant_race_4',\n",
       "       'co_applicant_race_name_5', 'co_applicant_race_5', 'applicant_sex_name',\n",
       "       'applicant_sex', 'co_applicant_sex_name', 'co_applicant_sex',\n",
       "       'applicant_income_000s', 'purchaser_type_name', 'purchaser_type',\n",
       "       'denial_reason_name_1', 'denial_reason_1', 'denial_reason_name_2',\n",
       "       'denial_reason_2', 'denial_reason_name_3', 'denial_reason_3',\n",
       "       'rate_spread', 'hoepa_status_name', 'hoepa_status', 'lien_status_name',\n",
       "       'lien_status', 'edit_status_name', 'edit_status', 'sequence_number',\n",
       "       'population', 'minority_population', 'hud_median_family_income',\n",
       "       'tract_to_msamd_income', 'number_of_owner_occupied_units',\n",
       "       'number_of_1_to_4_family_units', 'application_date_indicator'],\n",
       "      dtype='object')"
      ]
     },
     "execution_count": 4,
     "metadata": {},
     "output_type": "execute_result"
    }
   ],
   "source": [
    "df_orig.columns"
   ]
  },
  {
   "cell_type": "code",
   "execution_count": 5,
   "metadata": {},
   "outputs": [
    {
     "data": {
      "text/plain": [
       "Loan originated                                        7339057\n",
       "Loan purchased by the institution                      2086676\n",
       "Application denied by financial institution            2009743\n",
       "Application withdrawn by applicant                     1696289\n",
       "File closed for incompleteness                          601148\n",
       "Application approved but not accepted                   409797\n",
       "Preapproval request denied by financial institution     106680\n",
       "Preapproval request approved but not accepted            36106\n",
       "Name: action_taken_name, dtype: int64"
      ]
     },
     "execution_count": 5,
     "metadata": {},
     "output_type": "execute_result"
    }
   ],
   "source": [
    "df_orig['action_taken_name'].value_counts()"
   ]
  },
  {
   "cell_type": "code",
   "execution_count": 6,
   "metadata": {},
   "outputs": [
    {
     "data": {
      "text/html": [
       "<div>\n",
       "<style scoped>\n",
       "    .dataframe tbody tr th:only-of-type {\n",
       "        vertical-align: middle;\n",
       "    }\n",
       "\n",
       "    .dataframe tbody tr th {\n",
       "        vertical-align: top;\n",
       "    }\n",
       "\n",
       "    .dataframe thead th {\n",
       "        text-align: right;\n",
       "    }\n",
       "</style>\n",
       "<table border=\"1\" class=\"dataframe\">\n",
       "  <thead>\n",
       "    <tr style=\"text-align: right;\">\n",
       "      <th></th>\n",
       "      <th>applicant_race_name_1</th>\n",
       "      <th>applicant_ethnicity_name</th>\n",
       "      <th>action_taken_name</th>\n",
       "      <th>applicant_income_000s</th>\n",
       "      <th>tract_to_msamd_income</th>\n",
       "      <th>hoepa_status_name</th>\n",
       "      <th>loan_amount_000s</th>\n",
       "    </tr>\n",
       "  </thead>\n",
       "  <tbody>\n",
       "    <tr>\n",
       "      <th>0</th>\n",
       "      <td>Black or African American</td>\n",
       "      <td>Not Hispanic or Latino</td>\n",
       "      <td>Application withdrawn by applicant</td>\n",
       "      <td>12.0</td>\n",
       "      <td>47.540001</td>\n",
       "      <td>Not a HOEPA loan</td>\n",
       "      <td>53.0</td>\n",
       "    </tr>\n",
       "    <tr>\n",
       "      <th>1</th>\n",
       "      <td>White</td>\n",
       "      <td>Not Hispanic or Latino</td>\n",
       "      <td>Application denied by financial institution</td>\n",
       "      <td>60.0</td>\n",
       "      <td>86.239998</td>\n",
       "      <td>Not a HOEPA loan</td>\n",
       "      <td>168.0</td>\n",
       "    </tr>\n",
       "    <tr>\n",
       "      <th>2</th>\n",
       "      <td>Information not provided by applicant in mail,...</td>\n",
       "      <td>Information not provided by applicant in mail,...</td>\n",
       "      <td>File closed for incompleteness</td>\n",
       "      <td>50.0</td>\n",
       "      <td>63.939999</td>\n",
       "      <td>Not a HOEPA loan</td>\n",
       "      <td>103.0</td>\n",
       "    </tr>\n",
       "    <tr>\n",
       "      <th>3</th>\n",
       "      <td>White</td>\n",
       "      <td>Not Hispanic or Latino</td>\n",
       "      <td>Loan originated</td>\n",
       "      <td>53.0</td>\n",
       "      <td>74.290001</td>\n",
       "      <td>Not a HOEPA loan</td>\n",
       "      <td>88.0</td>\n",
       "    </tr>\n",
       "    <tr>\n",
       "      <th>4</th>\n",
       "      <td>White</td>\n",
       "      <td>Not Hispanic or Latino</td>\n",
       "      <td>Application withdrawn by applicant</td>\n",
       "      <td>29.0</td>\n",
       "      <td>79.250000</td>\n",
       "      <td>Not a HOEPA loan</td>\n",
       "      <td>90.0</td>\n",
       "    </tr>\n",
       "    <tr>\n",
       "      <th>...</th>\n",
       "      <td>...</td>\n",
       "      <td>...</td>\n",
       "      <td>...</td>\n",
       "      <td>...</td>\n",
       "      <td>...</td>\n",
       "      <td>...</td>\n",
       "      <td>...</td>\n",
       "    </tr>\n",
       "    <tr>\n",
       "      <th>14285491</th>\n",
       "      <td>Information not provided by applicant in mail,...</td>\n",
       "      <td>Information not provided by applicant in mail,...</td>\n",
       "      <td>Loan originated</td>\n",
       "      <td>167.0</td>\n",
       "      <td>138.639999</td>\n",
       "      <td>Not a HOEPA loan</td>\n",
       "      <td>832.0</td>\n",
       "    </tr>\n",
       "    <tr>\n",
       "      <th>14285492</th>\n",
       "      <td>Information not provided by applicant in mail,...</td>\n",
       "      <td>Not Hispanic or Latino</td>\n",
       "      <td>Application denied by financial institution</td>\n",
       "      <td>193.0</td>\n",
       "      <td>138.639999</td>\n",
       "      <td>Not a HOEPA loan</td>\n",
       "      <td>840.0</td>\n",
       "    </tr>\n",
       "    <tr>\n",
       "      <th>14285493</th>\n",
       "      <td>Information not provided by applicant in mail,...</td>\n",
       "      <td>Information not provided by applicant in mail,...</td>\n",
       "      <td>Loan originated</td>\n",
       "      <td>175.0</td>\n",
       "      <td>138.639999</td>\n",
       "      <td>Not a HOEPA loan</td>\n",
       "      <td>476.0</td>\n",
       "    </tr>\n",
       "    <tr>\n",
       "      <th>14285494</th>\n",
       "      <td>White</td>\n",
       "      <td>Not Hispanic or Latino</td>\n",
       "      <td>Application denied by financial institution</td>\n",
       "      <td>55.0</td>\n",
       "      <td>88.519997</td>\n",
       "      <td>Not a HOEPA loan</td>\n",
       "      <td>141.0</td>\n",
       "    </tr>\n",
       "    <tr>\n",
       "      <th>14285495</th>\n",
       "      <td>White</td>\n",
       "      <td>Not Hispanic or Latino</td>\n",
       "      <td>Application denied by financial institution</td>\n",
       "      <td>106.0</td>\n",
       "      <td>88.519997</td>\n",
       "      <td>Not a HOEPA loan</td>\n",
       "      <td>75.0</td>\n",
       "    </tr>\n",
       "  </tbody>\n",
       "</table>\n",
       "<p>14285496 rows × 7 columns</p>\n",
       "</div>"
      ],
      "text/plain": [
       "                                      applicant_race_name_1  \\\n",
       "0                                 Black or African American   \n",
       "1                                                     White   \n",
       "2         Information not provided by applicant in mail,...   \n",
       "3                                                     White   \n",
       "4                                                     White   \n",
       "...                                                     ...   \n",
       "14285491  Information not provided by applicant in mail,...   \n",
       "14285492  Information not provided by applicant in mail,...   \n",
       "14285493  Information not provided by applicant in mail,...   \n",
       "14285494                                              White   \n",
       "14285495                                              White   \n",
       "\n",
       "                                   applicant_ethnicity_name  \\\n",
       "0                                    Not Hispanic or Latino   \n",
       "1                                    Not Hispanic or Latino   \n",
       "2         Information not provided by applicant in mail,...   \n",
       "3                                    Not Hispanic or Latino   \n",
       "4                                    Not Hispanic or Latino   \n",
       "...                                                     ...   \n",
       "14285491  Information not provided by applicant in mail,...   \n",
       "14285492                             Not Hispanic or Latino   \n",
       "14285493  Information not provided by applicant in mail,...   \n",
       "14285494                             Not Hispanic or Latino   \n",
       "14285495                             Not Hispanic or Latino   \n",
       "\n",
       "                                    action_taken_name  applicant_income_000s  \\\n",
       "0                  Application withdrawn by applicant                   12.0   \n",
       "1         Application denied by financial institution                   60.0   \n",
       "2                      File closed for incompleteness                   50.0   \n",
       "3                                     Loan originated                   53.0   \n",
       "4                  Application withdrawn by applicant                   29.0   \n",
       "...                                               ...                    ...   \n",
       "14285491                              Loan originated                  167.0   \n",
       "14285492  Application denied by financial institution                  193.0   \n",
       "14285493                              Loan originated                  175.0   \n",
       "14285494  Application denied by financial institution                   55.0   \n",
       "14285495  Application denied by financial institution                  106.0   \n",
       "\n",
       "          tract_to_msamd_income hoepa_status_name  loan_amount_000s  \n",
       "0                     47.540001  Not a HOEPA loan              53.0  \n",
       "1                     86.239998  Not a HOEPA loan             168.0  \n",
       "2                     63.939999  Not a HOEPA loan             103.0  \n",
       "3                     74.290001  Not a HOEPA loan              88.0  \n",
       "4                     79.250000  Not a HOEPA loan              90.0  \n",
       "...                         ...               ...               ...  \n",
       "14285491             138.639999  Not a HOEPA loan             832.0  \n",
       "14285492             138.639999  Not a HOEPA loan             840.0  \n",
       "14285493             138.639999  Not a HOEPA loan             476.0  \n",
       "14285494              88.519997  Not a HOEPA loan             141.0  \n",
       "14285495              88.519997  Not a HOEPA loan              75.0  \n",
       "\n",
       "[14285496 rows x 7 columns]"
      ]
     },
     "execution_count": 6,
     "metadata": {},
     "output_type": "execute_result"
    }
   ],
   "source": [
    "df_sub = df_orig[['applicant_race_name_1', 'applicant_ethnicity_name', 'action_taken_name', 'applicant_income_000s', 'tract_to_msamd_income', 'hoepa_status_name', 'loan_amount_000s']]\n",
    "df_sub"
   ]
  },
  {
   "cell_type": "code",
   "execution_count": 7,
   "metadata": {},
   "outputs": [],
   "source": [
    "df_sub = df_sub[~df_sub['applicant_race_name_1'].str.contains('Information not provided')]\n",
    "df_sub = df_sub[~df_sub['applicant_race_name_1'].str.contains('Not applicable')]\n",
    "df_sub = df_sub[df_sub['hoepa_status_name'].str.contains('Not')]\n",
    "df_sub = df_sub[~df_sub['action_taken_name'].str.contains('withdrawn')]\n",
    "df_sub = df_sub[~df_sub['action_taken_name'].str.contains('incomplete')]"
   ]
  },
  {
   "cell_type": "code",
   "execution_count": 8,
   "metadata": {},
   "outputs": [
    {
     "data": {
      "text/html": [
       "<div>\n",
       "<style scoped>\n",
       "    .dataframe tbody tr th:only-of-type {\n",
       "        vertical-align: middle;\n",
       "    }\n",
       "\n",
       "    .dataframe tbody tr th {\n",
       "        vertical-align: top;\n",
       "    }\n",
       "\n",
       "    .dataframe thead th {\n",
       "        text-align: right;\n",
       "    }\n",
       "</style>\n",
       "<table border=\"1\" class=\"dataframe\">\n",
       "  <thead>\n",
       "    <tr style=\"text-align: right;\">\n",
       "      <th></th>\n",
       "      <th>applicant_race_name_1</th>\n",
       "      <th>applicant_ethnicity_name</th>\n",
       "      <th>action_taken_name</th>\n",
       "      <th>applicant_income_000s</th>\n",
       "      <th>tract_to_msamd_income</th>\n",
       "      <th>hoepa_status_name</th>\n",
       "      <th>loan_amount_000s</th>\n",
       "    </tr>\n",
       "  </thead>\n",
       "  <tbody>\n",
       "    <tr>\n",
       "      <th>1</th>\n",
       "      <td>White</td>\n",
       "      <td>Not Hispanic or Latino</td>\n",
       "      <td>Application denied by financial institution</td>\n",
       "      <td>60.0</td>\n",
       "      <td>86.239998</td>\n",
       "      <td>Not a HOEPA loan</td>\n",
       "      <td>168.0</td>\n",
       "    </tr>\n",
       "    <tr>\n",
       "      <th>3</th>\n",
       "      <td>White</td>\n",
       "      <td>Not Hispanic or Latino</td>\n",
       "      <td>Loan originated</td>\n",
       "      <td>53.0</td>\n",
       "      <td>74.290001</td>\n",
       "      <td>Not a HOEPA loan</td>\n",
       "      <td>88.0</td>\n",
       "    </tr>\n",
       "    <tr>\n",
       "      <th>7</th>\n",
       "      <td>Asian</td>\n",
       "      <td>Not Hispanic or Latino</td>\n",
       "      <td>Application denied by financial institution</td>\n",
       "      <td>51.0</td>\n",
       "      <td>116.010002</td>\n",
       "      <td>Not a HOEPA loan</td>\n",
       "      <td>185.0</td>\n",
       "    </tr>\n",
       "    <tr>\n",
       "      <th>9</th>\n",
       "      <td>White</td>\n",
       "      <td>Not Hispanic or Latino</td>\n",
       "      <td>Loan originated</td>\n",
       "      <td>31.0</td>\n",
       "      <td>71.129997</td>\n",
       "      <td>Not a HOEPA loan</td>\n",
       "      <td>94.0</td>\n",
       "    </tr>\n",
       "    <tr>\n",
       "      <th>10</th>\n",
       "      <td>Black or African American</td>\n",
       "      <td>Not Hispanic or Latino</td>\n",
       "      <td>Application denied by financial institution</td>\n",
       "      <td>26.0</td>\n",
       "      <td>100.750000</td>\n",
       "      <td>Not a HOEPA loan</td>\n",
       "      <td>95.0</td>\n",
       "    </tr>\n",
       "  </tbody>\n",
       "</table>\n",
       "</div>"
      ],
      "text/plain": [
       "        applicant_race_name_1 applicant_ethnicity_name  \\\n",
       "1                       White   Not Hispanic or Latino   \n",
       "3                       White   Not Hispanic or Latino   \n",
       "7                       Asian   Not Hispanic or Latino   \n",
       "9                       White   Not Hispanic or Latino   \n",
       "10  Black or African American   Not Hispanic or Latino   \n",
       "\n",
       "                              action_taken_name  applicant_income_000s  \\\n",
       "1   Application denied by financial institution                   60.0   \n",
       "3                               Loan originated                   53.0   \n",
       "7   Application denied by financial institution                   51.0   \n",
       "9                               Loan originated                   31.0   \n",
       "10  Application denied by financial institution                   26.0   \n",
       "\n",
       "    tract_to_msamd_income hoepa_status_name  loan_amount_000s  \n",
       "1               86.239998  Not a HOEPA loan             168.0  \n",
       "3               74.290001  Not a HOEPA loan              88.0  \n",
       "7              116.010002  Not a HOEPA loan             185.0  \n",
       "9               71.129997  Not a HOEPA loan              94.0  \n",
       "10             100.750000  Not a HOEPA loan              95.0  "
      ]
     },
     "execution_count": 8,
     "metadata": {},
     "output_type": "execute_result"
    }
   ],
   "source": [
    "df_sub.head()"
   ]
  },
  {
   "cell_type": "code",
   "execution_count": 9,
   "metadata": {},
   "outputs": [],
   "source": [
    "approved = ['Application approved but not accepted', 'Loan originated', 'Loan purchased by the institution', 'Preapproval request approved but not accepted']\n",
    "not_approved = ['Application denied by financial institution', 'Preapproval request denied by financial institution']\n",
    "\n",
    "def filter_action(x):\n",
    "    if x.strip() in approved:\n",
    "        return 'Approved'\n",
    "    elif x.strip() in not_approved:\n",
    "        return 'Not approved'\n",
    "    else: \n",
    "        None"
   ]
  },
  {
   "cell_type": "code",
   "execution_count": 10,
   "metadata": {},
   "outputs": [],
   "source": [
    "df_sub['action'] = df_sub['action_taken_name'].apply(filter_action)"
   ]
  },
  {
   "cell_type": "code",
   "execution_count": 11,
   "metadata": {},
   "outputs": [
    {
     "data": {
      "text/html": [
       "<div>\n",
       "<style scoped>\n",
       "    .dataframe tbody tr th:only-of-type {\n",
       "        vertical-align: middle;\n",
       "    }\n",
       "\n",
       "    .dataframe tbody tr th {\n",
       "        vertical-align: top;\n",
       "    }\n",
       "\n",
       "    .dataframe thead th {\n",
       "        text-align: right;\n",
       "    }\n",
       "</style>\n",
       "<table border=\"1\" class=\"dataframe\">\n",
       "  <thead>\n",
       "    <tr style=\"text-align: right;\">\n",
       "      <th></th>\n",
       "      <th>applicant_race_name_1</th>\n",
       "      <th>applicant_ethnicity_name</th>\n",
       "      <th>action_taken_name</th>\n",
       "      <th>applicant_income_000s</th>\n",
       "      <th>tract_to_msamd_income</th>\n",
       "      <th>hoepa_status_name</th>\n",
       "      <th>loan_amount_000s</th>\n",
       "      <th>action</th>\n",
       "    </tr>\n",
       "  </thead>\n",
       "  <tbody>\n",
       "    <tr>\n",
       "      <th>1</th>\n",
       "      <td>White</td>\n",
       "      <td>Not Hispanic or Latino</td>\n",
       "      <td>Application denied by financial institution</td>\n",
       "      <td>60.0</td>\n",
       "      <td>86.239998</td>\n",
       "      <td>Not a HOEPA loan</td>\n",
       "      <td>168.0</td>\n",
       "      <td>Not approved</td>\n",
       "    </tr>\n",
       "    <tr>\n",
       "      <th>3</th>\n",
       "      <td>White</td>\n",
       "      <td>Not Hispanic or Latino</td>\n",
       "      <td>Loan originated</td>\n",
       "      <td>53.0</td>\n",
       "      <td>74.290001</td>\n",
       "      <td>Not a HOEPA loan</td>\n",
       "      <td>88.0</td>\n",
       "      <td>Approved</td>\n",
       "    </tr>\n",
       "    <tr>\n",
       "      <th>7</th>\n",
       "      <td>Asian</td>\n",
       "      <td>Not Hispanic or Latino</td>\n",
       "      <td>Application denied by financial institution</td>\n",
       "      <td>51.0</td>\n",
       "      <td>116.010002</td>\n",
       "      <td>Not a HOEPA loan</td>\n",
       "      <td>185.0</td>\n",
       "      <td>Not approved</td>\n",
       "    </tr>\n",
       "    <tr>\n",
       "      <th>9</th>\n",
       "      <td>White</td>\n",
       "      <td>Not Hispanic or Latino</td>\n",
       "      <td>Loan originated</td>\n",
       "      <td>31.0</td>\n",
       "      <td>71.129997</td>\n",
       "      <td>Not a HOEPA loan</td>\n",
       "      <td>94.0</td>\n",
       "      <td>Approved</td>\n",
       "    </tr>\n",
       "    <tr>\n",
       "      <th>10</th>\n",
       "      <td>Black or African American</td>\n",
       "      <td>Not Hispanic or Latino</td>\n",
       "      <td>Application denied by financial institution</td>\n",
       "      <td>26.0</td>\n",
       "      <td>100.750000</td>\n",
       "      <td>Not a HOEPA loan</td>\n",
       "      <td>95.0</td>\n",
       "      <td>Not approved</td>\n",
       "    </tr>\n",
       "    <tr>\n",
       "      <th>...</th>\n",
       "      <td>...</td>\n",
       "      <td>...</td>\n",
       "      <td>...</td>\n",
       "      <td>...</td>\n",
       "      <td>...</td>\n",
       "      <td>...</td>\n",
       "      <td>...</td>\n",
       "      <td>...</td>\n",
       "    </tr>\n",
       "    <tr>\n",
       "      <th>14285487</th>\n",
       "      <td>White</td>\n",
       "      <td>Not Hispanic or Latino</td>\n",
       "      <td>Application approved but not accepted</td>\n",
       "      <td>31.0</td>\n",
       "      <td>120.540001</td>\n",
       "      <td>Not a HOEPA loan</td>\n",
       "      <td>188.0</td>\n",
       "      <td>Approved</td>\n",
       "    </tr>\n",
       "    <tr>\n",
       "      <th>14285488</th>\n",
       "      <td>Asian</td>\n",
       "      <td>Not Hispanic or Latino</td>\n",
       "      <td>Application denied by financial institution</td>\n",
       "      <td>70.0</td>\n",
       "      <td>138.639999</td>\n",
       "      <td>Not a HOEPA loan</td>\n",
       "      <td>340.0</td>\n",
       "      <td>Not approved</td>\n",
       "    </tr>\n",
       "    <tr>\n",
       "      <th>14285489</th>\n",
       "      <td>White</td>\n",
       "      <td>Not Hispanic or Latino</td>\n",
       "      <td>Application denied by financial institution</td>\n",
       "      <td>84.0</td>\n",
       "      <td>208.770004</td>\n",
       "      <td>Not a HOEPA loan</td>\n",
       "      <td>324.0</td>\n",
       "      <td>Not approved</td>\n",
       "    </tr>\n",
       "    <tr>\n",
       "      <th>14285494</th>\n",
       "      <td>White</td>\n",
       "      <td>Not Hispanic or Latino</td>\n",
       "      <td>Application denied by financial institution</td>\n",
       "      <td>55.0</td>\n",
       "      <td>88.519997</td>\n",
       "      <td>Not a HOEPA loan</td>\n",
       "      <td>141.0</td>\n",
       "      <td>Not approved</td>\n",
       "    </tr>\n",
       "    <tr>\n",
       "      <th>14285495</th>\n",
       "      <td>White</td>\n",
       "      <td>Not Hispanic or Latino</td>\n",
       "      <td>Application denied by financial institution</td>\n",
       "      <td>106.0</td>\n",
       "      <td>88.519997</td>\n",
       "      <td>Not a HOEPA loan</td>\n",
       "      <td>75.0</td>\n",
       "      <td>Not approved</td>\n",
       "    </tr>\n",
       "  </tbody>\n",
       "</table>\n",
       "<p>9221483 rows × 8 columns</p>\n",
       "</div>"
      ],
      "text/plain": [
       "              applicant_race_name_1 applicant_ethnicity_name  \\\n",
       "1                             White   Not Hispanic or Latino   \n",
       "3                             White   Not Hispanic or Latino   \n",
       "7                             Asian   Not Hispanic or Latino   \n",
       "9                             White   Not Hispanic or Latino   \n",
       "10        Black or African American   Not Hispanic or Latino   \n",
       "...                             ...                      ...   \n",
       "14285487                      White   Not Hispanic or Latino   \n",
       "14285488                      Asian   Not Hispanic or Latino   \n",
       "14285489                      White   Not Hispanic or Latino   \n",
       "14285494                      White   Not Hispanic or Latino   \n",
       "14285495                      White   Not Hispanic or Latino   \n",
       "\n",
       "                                    action_taken_name  applicant_income_000s  \\\n",
       "1         Application denied by financial institution                   60.0   \n",
       "3                                     Loan originated                   53.0   \n",
       "7         Application denied by financial institution                   51.0   \n",
       "9                                     Loan originated                   31.0   \n",
       "10        Application denied by financial institution                   26.0   \n",
       "...                                               ...                    ...   \n",
       "14285487        Application approved but not accepted                   31.0   \n",
       "14285488  Application denied by financial institution                   70.0   \n",
       "14285489  Application denied by financial institution                   84.0   \n",
       "14285494  Application denied by financial institution                   55.0   \n",
       "14285495  Application denied by financial institution                  106.0   \n",
       "\n",
       "          tract_to_msamd_income hoepa_status_name  loan_amount_000s  \\\n",
       "1                     86.239998  Not a HOEPA loan             168.0   \n",
       "3                     74.290001  Not a HOEPA loan              88.0   \n",
       "7                    116.010002  Not a HOEPA loan             185.0   \n",
       "9                     71.129997  Not a HOEPA loan              94.0   \n",
       "10                   100.750000  Not a HOEPA loan              95.0   \n",
       "...                         ...               ...               ...   \n",
       "14285487             120.540001  Not a HOEPA loan             188.0   \n",
       "14285488             138.639999  Not a HOEPA loan             340.0   \n",
       "14285489             208.770004  Not a HOEPA loan             324.0   \n",
       "14285494              88.519997  Not a HOEPA loan             141.0   \n",
       "14285495              88.519997  Not a HOEPA loan              75.0   \n",
       "\n",
       "                action  \n",
       "1         Not approved  \n",
       "3             Approved  \n",
       "7         Not approved  \n",
       "9             Approved  \n",
       "10        Not approved  \n",
       "...                ...  \n",
       "14285487      Approved  \n",
       "14285488  Not approved  \n",
       "14285489  Not approved  \n",
       "14285494  Not approved  \n",
       "14285495  Not approved  \n",
       "\n",
       "[9221483 rows x 8 columns]"
      ]
     },
     "execution_count": 11,
     "metadata": {},
     "output_type": "execute_result"
    }
   ],
   "source": [
    "# exclude those who have hoepa loan since it is a rare and high cost loan\n",
    "df_sub"
   ]
  },
  {
   "cell_type": "code",
   "execution_count": 12,
   "metadata": {},
   "outputs": [
    {
     "data": {
      "text/plain": [
       "Not Hispanic or Latino                                                               8081609\n",
       "Hispanic or Latino                                                                    983918\n",
       "Information not provided by applicant in mail, Internet, or telephone application     152614\n",
       "Not applicable                                                                          3342\n",
       "Name: applicant_ethnicity_name, dtype: int64"
      ]
     },
     "execution_count": 12,
     "metadata": {},
     "output_type": "execute_result"
    }
   ],
   "source": [
    "df_sub['applicant_ethnicity_name'].value_counts()"
   ]
  },
  {
   "cell_type": "code",
   "execution_count": 13,
   "metadata": {},
   "outputs": [
    {
     "data": {
      "text/plain": [
       "1                            [White,  Not Hispanic or Latino]\n",
       "3                            [White,  Not Hispanic or Latino]\n",
       "7                            [Asian,  Not Hispanic or Latino]\n",
       "9                            [White,  Not Hispanic or Latino]\n",
       "10          [Black or African American,  Not Hispanic or L...\n",
       "                                  ...                        \n",
       "14285487                     [White,  Not Hispanic or Latino]\n",
       "14285488                     [Asian,  Not Hispanic or Latino]\n",
       "14285489                     [White,  Not Hispanic or Latino]\n",
       "14285494                     [White,  Not Hispanic or Latino]\n",
       "14285495                     [White,  Not Hispanic or Latino]\n",
       "Length: 9221483, dtype: object"
      ]
     },
     "execution_count": 13,
     "metadata": {},
     "output_type": "execute_result"
    }
   ],
   "source": [
    "combined = df_sub['applicant_race_name_1'] + ', ' + df_sub['applicant_ethnicity_name']\n",
    "splitted = combined.str.split(',')\n",
    "splitted"
   ]
  },
  {
   "cell_type": "code",
   "execution_count": 14,
   "metadata": {},
   "outputs": [
    {
     "data": {
      "text/plain": [
       "1                               White\n",
       "3                               White\n",
       "7                               Asian\n",
       "9                               White\n",
       "10          Black or African American\n",
       "                      ...            \n",
       "14285487                        White\n",
       "14285488                        Asian\n",
       "14285489                        White\n",
       "14285494                        White\n",
       "14285495                        White\n",
       "Length: 9221483, dtype: object"
      ]
     },
     "execution_count": 14,
     "metadata": {},
     "output_type": "execute_result"
    }
   ],
   "source": [
    "a = splitted.apply(lambda x: 'Hispanic/Latino ' + x[0] if (x[0].strip() == 'White') & (x[1].strip() == 'Hispanic or Latino') else x[0])\n",
    "a"
   ]
  },
  {
   "cell_type": "code",
   "execution_count": 15,
   "metadata": {},
   "outputs": [
    {
     "data": {
      "text/plain": [
       "White                                        6792624\n",
       "Hispanic/Latino White                         928685\n",
       "Black or African American                     799753\n",
       "Asian                                         567335\n",
       "American Indian or Alaska Native               85866\n",
       "Native Hawaiian or Other Pacific Islander      47220\n",
       "dtype: int64"
      ]
     },
     "execution_count": 15,
     "metadata": {},
     "output_type": "execute_result"
    }
   ],
   "source": [
    "b = a.value_counts()\n",
    "b"
   ]
  },
  {
   "cell_type": "code",
   "execution_count": 16,
   "metadata": {},
   "outputs": [
    {
     "data": {
      "text/plain": [
       "<AxesSubplot:>"
      ]
     },
     "execution_count": 16,
     "metadata": {},
     "output_type": "execute_result"
    },
    {
     "data": {
      "image/png": "[encoded data removed]",
      "text/plain": [
       "<Figure size 432x288 with 1 Axes>"
      ]
     },
     "metadata": {
      "needs_background": "light"
     },
     "output_type": "display_data"
    }
   ],
   "source": [
    "b.plot(kind='barh')"
   ]
  },
  {
   "cell_type": "code",
   "execution_count": 17,
   "metadata": {},
   "outputs": [],
   "source": [
    "df = df_sub.assign(updated_race = a)"
   ]
  },
  {
   "cell_type": "code",
   "execution_count": 18,
   "metadata": {},
   "outputs": [
    {
     "data": {
      "text/html": [
       "<div>\n",
       "<style scoped>\n",
       "    .dataframe tbody tr th:only-of-type {\n",
       "        vertical-align: middle;\n",
       "    }\n",
       "\n",
       "    .dataframe tbody tr th {\n",
       "        vertical-align: top;\n",
       "    }\n",
       "\n",
       "    .dataframe thead th {\n",
       "        text-align: right;\n",
       "    }\n",
       "</style>\n",
       "<table border=\"1\" class=\"dataframe\">\n",
       "  <thead>\n",
       "    <tr style=\"text-align: right;\">\n",
       "      <th></th>\n",
       "      <th>applicant_race_name_1</th>\n",
       "      <th>applicant_ethnicity_name</th>\n",
       "      <th>action_taken_name</th>\n",
       "      <th>applicant_income_000s</th>\n",
       "      <th>tract_to_msamd_income</th>\n",
       "      <th>hoepa_status_name</th>\n",
       "      <th>loan_amount_000s</th>\n",
       "      <th>action</th>\n",
       "      <th>updated_race</th>\n",
       "    </tr>\n",
       "  </thead>\n",
       "  <tbody>\n",
       "    <tr>\n",
       "      <th>1</th>\n",
       "      <td>White</td>\n",
       "      <td>Not Hispanic or Latino</td>\n",
       "      <td>Application denied by financial institution</td>\n",
       "      <td>60.0</td>\n",
       "      <td>86.239998</td>\n",
       "      <td>Not a HOEPA loan</td>\n",
       "      <td>168.0</td>\n",
       "      <td>Not approved</td>\n",
       "      <td>White</td>\n",
       "    </tr>\n",
       "    <tr>\n",
       "      <th>3</th>\n",
       "      <td>White</td>\n",
       "      <td>Not Hispanic or Latino</td>\n",
       "      <td>Loan originated</td>\n",
       "      <td>53.0</td>\n",
       "      <td>74.290001</td>\n",
       "      <td>Not a HOEPA loan</td>\n",
       "      <td>88.0</td>\n",
       "      <td>Approved</td>\n",
       "      <td>White</td>\n",
       "    </tr>\n",
       "    <tr>\n",
       "      <th>7</th>\n",
       "      <td>Asian</td>\n",
       "      <td>Not Hispanic or Latino</td>\n",
       "      <td>Application denied by financial institution</td>\n",
       "      <td>51.0</td>\n",
       "      <td>116.010002</td>\n",
       "      <td>Not a HOEPA loan</td>\n",
       "      <td>185.0</td>\n",
       "      <td>Not approved</td>\n",
       "      <td>Asian</td>\n",
       "    </tr>\n",
       "    <tr>\n",
       "      <th>9</th>\n",
       "      <td>White</td>\n",
       "      <td>Not Hispanic or Latino</td>\n",
       "      <td>Loan originated</td>\n",
       "      <td>31.0</td>\n",
       "      <td>71.129997</td>\n",
       "      <td>Not a HOEPA loan</td>\n",
       "      <td>94.0</td>\n",
       "      <td>Approved</td>\n",
       "      <td>White</td>\n",
       "    </tr>\n",
       "    <tr>\n",
       "      <th>10</th>\n",
       "      <td>Black or African American</td>\n",
       "      <td>Not Hispanic or Latino</td>\n",
       "      <td>Application denied by financial institution</td>\n",
       "      <td>26.0</td>\n",
       "      <td>100.750000</td>\n",
       "      <td>Not a HOEPA loan</td>\n",
       "      <td>95.0</td>\n",
       "      <td>Not approved</td>\n",
       "      <td>Black or African American</td>\n",
       "    </tr>\n",
       "    <tr>\n",
       "      <th>...</th>\n",
       "      <td>...</td>\n",
       "      <td>...</td>\n",
       "      <td>...</td>\n",
       "      <td>...</td>\n",
       "      <td>...</td>\n",
       "      <td>...</td>\n",
       "      <td>...</td>\n",
       "      <td>...</td>\n",
       "      <td>...</td>\n",
       "    </tr>\n",
       "    <tr>\n",
       "      <th>14285487</th>\n",
       "      <td>White</td>\n",
       "      <td>Not Hispanic or Latino</td>\n",
       "      <td>Application approved but not accepted</td>\n",
       "      <td>31.0</td>\n",
       "      <td>120.540001</td>\n",
       "      <td>Not a HOEPA loan</td>\n",
       "      <td>188.0</td>\n",
       "      <td>Approved</td>\n",
       "      <td>White</td>\n",
       "    </tr>\n",
       "    <tr>\n",
       "      <th>14285488</th>\n",
       "      <td>Asian</td>\n",
       "      <td>Not Hispanic or Latino</td>\n",
       "      <td>Application denied by financial institution</td>\n",
       "      <td>70.0</td>\n",
       "      <td>138.639999</td>\n",
       "      <td>Not a HOEPA loan</td>\n",
       "      <td>340.0</td>\n",
       "      <td>Not approved</td>\n",
       "      <td>Asian</td>\n",
       "    </tr>\n",
       "    <tr>\n",
       "      <th>14285489</th>\n",
       "      <td>White</td>\n",
       "      <td>Not Hispanic or Latino</td>\n",
       "      <td>Application denied by financial institution</td>\n",
       "      <td>84.0</td>\n",
       "      <td>208.770004</td>\n",
       "      <td>Not a HOEPA loan</td>\n",
       "      <td>324.0</td>\n",
       "      <td>Not approved</td>\n",
       "      <td>White</td>\n",
       "    </tr>\n",
       "    <tr>\n",
       "      <th>14285494</th>\n",
       "      <td>White</td>\n",
       "      <td>Not Hispanic or Latino</td>\n",
       "      <td>Application denied by financial institution</td>\n",
       "      <td>55.0</td>\n",
       "      <td>88.519997</td>\n",
       "      <td>Not a HOEPA loan</td>\n",
       "      <td>141.0</td>\n",
       "      <td>Not approved</td>\n",
       "      <td>White</td>\n",
       "    </tr>\n",
       "    <tr>\n",
       "      <th>14285495</th>\n",
       "      <td>White</td>\n",
       "      <td>Not Hispanic or Latino</td>\n",
       "      <td>Application denied by financial institution</td>\n",
       "      <td>106.0</td>\n",
       "      <td>88.519997</td>\n",
       "      <td>Not a HOEPA loan</td>\n",
       "      <td>75.0</td>\n",
       "      <td>Not approved</td>\n",
       "      <td>White</td>\n",
       "    </tr>\n",
       "  </tbody>\n",
       "</table>\n",
       "<p>9221483 rows × 9 columns</p>\n",
       "</div>"
      ],
      "text/plain": [
       "              applicant_race_name_1 applicant_ethnicity_name  \\\n",
       "1                             White   Not Hispanic or Latino   \n",
       "3                             White   Not Hispanic or Latino   \n",
       "7                             Asian   Not Hispanic or Latino   \n",
       "9                             White   Not Hispanic or Latino   \n",
       "10        Black or African American   Not Hispanic or Latino   \n",
       "...                             ...                      ...   \n",
       "14285487                      White   Not Hispanic or Latino   \n",
       "14285488                      Asian   Not Hispanic or Latino   \n",
       "14285489                      White   Not Hispanic or Latino   \n",
       "14285494                      White   Not Hispanic or Latino   \n",
       "14285495                      White   Not Hispanic or Latino   \n",
       "\n",
       "                                    action_taken_name  applicant_income_000s  \\\n",
       "1         Application denied by financial institution                   60.0   \n",
       "3                                     Loan originated                   53.0   \n",
       "7         Application denied by financial institution                   51.0   \n",
       "9                                     Loan originated                   31.0   \n",
       "10        Application denied by financial institution                   26.0   \n",
       "...                                               ...                    ...   \n",
       "14285487        Application approved but not accepted                   31.0   \n",
       "14285488  Application denied by financial institution                   70.0   \n",
       "14285489  Application denied by financial institution                   84.0   \n",
       "14285494  Application denied by financial institution                   55.0   \n",
       "14285495  Application denied by financial institution                  106.0   \n",
       "\n",
       "          tract_to_msamd_income hoepa_status_name  loan_amount_000s  \\\n",
       "1                     86.239998  Not a HOEPA loan             168.0   \n",
       "3                     74.290001  Not a HOEPA loan              88.0   \n",
       "7                    116.010002  Not a HOEPA loan             185.0   \n",
       "9                     71.129997  Not a HOEPA loan              94.0   \n",
       "10                   100.750000  Not a HOEPA loan              95.0   \n",
       "...                         ...               ...               ...   \n",
       "14285487             120.540001  Not a HOEPA loan             188.0   \n",
       "14285488             138.639999  Not a HOEPA loan             340.0   \n",
       "14285489             208.770004  Not a HOEPA loan             324.0   \n",
       "14285494              88.519997  Not a HOEPA loan             141.0   \n",
       "14285495              88.519997  Not a HOEPA loan              75.0   \n",
       "\n",
       "                action               updated_race  \n",
       "1         Not approved                      White  \n",
       "3             Approved                      White  \n",
       "7         Not approved                      Asian  \n",
       "9             Approved                      White  \n",
       "10        Not approved  Black or African American  \n",
       "...                ...                        ...  \n",
       "14285487      Approved                      White  \n",
       "14285488  Not approved                      Asian  \n",
       "14285489  Not approved                      White  \n",
       "14285494  Not approved                      White  \n",
       "14285495  Not approved                      White  \n",
       "\n",
       "[9221483 rows x 9 columns]"
      ]
     },
     "execution_count": 18,
     "metadata": {},
     "output_type": "execute_result"
    }
   ],
   "source": [
    "df"
   ]
  },
  {
   "cell_type": "code",
   "execution_count": 19,
   "metadata": {},
   "outputs": [],
   "source": [
    "dff = df[['updated_race', 'action', 'tract_to_msamd_income']]"
   ]
  },
  {
   "cell_type": "code",
   "execution_count": 20,
   "metadata": {},
   "outputs": [
    {
     "data": {
      "text/html": [
       "<div>\n",
       "<style scoped>\n",
       "    .dataframe tbody tr th:only-of-type {\n",
       "        vertical-align: middle;\n",
       "    }\n",
       "\n",
       "    .dataframe tbody tr th {\n",
       "        vertical-align: top;\n",
       "    }\n",
       "\n",
       "    .dataframe thead th {\n",
       "        text-align: right;\n",
       "    }\n",
       "</style>\n",
       "<table border=\"1\" class=\"dataframe\">\n",
       "  <thead>\n",
       "    <tr style=\"text-align: right;\">\n",
       "      <th></th>\n",
       "      <th>updated_race</th>\n",
       "      <th>action</th>\n",
       "      <th>tract_to_msamd_income</th>\n",
       "    </tr>\n",
       "  </thead>\n",
       "  <tbody>\n",
       "    <tr>\n",
       "      <th>1</th>\n",
       "      <td>White</td>\n",
       "      <td>Not approved</td>\n",
       "      <td>86.239998</td>\n",
       "    </tr>\n",
       "    <tr>\n",
       "      <th>3</th>\n",
       "      <td>White</td>\n",
       "      <td>Approved</td>\n",
       "      <td>74.290001</td>\n",
       "    </tr>\n",
       "    <tr>\n",
       "      <th>7</th>\n",
       "      <td>Asian</td>\n",
       "      <td>Not approved</td>\n",
       "      <td>116.010002</td>\n",
       "    </tr>\n",
       "    <tr>\n",
       "      <th>9</th>\n",
       "      <td>White</td>\n",
       "      <td>Approved</td>\n",
       "      <td>71.129997</td>\n",
       "    </tr>\n",
       "    <tr>\n",
       "      <th>10</th>\n",
       "      <td>Black or African American</td>\n",
       "      <td>Not approved</td>\n",
       "      <td>100.750000</td>\n",
       "    </tr>\n",
       "    <tr>\n",
       "      <th>...</th>\n",
       "      <td>...</td>\n",
       "      <td>...</td>\n",
       "      <td>...</td>\n",
       "    </tr>\n",
       "    <tr>\n",
       "      <th>14285487</th>\n",
       "      <td>White</td>\n",
       "      <td>Approved</td>\n",
       "      <td>120.540001</td>\n",
       "    </tr>\n",
       "    <tr>\n",
       "      <th>14285488</th>\n",
       "      <td>Asian</td>\n",
       "      <td>Not approved</td>\n",
       "      <td>138.639999</td>\n",
       "    </tr>\n",
       "    <tr>\n",
       "      <th>14285489</th>\n",
       "      <td>White</td>\n",
       "      <td>Not approved</td>\n",
       "      <td>208.770004</td>\n",
       "    </tr>\n",
       "    <tr>\n",
       "      <th>14285494</th>\n",
       "      <td>White</td>\n",
       "      <td>Not approved</td>\n",
       "      <td>88.519997</td>\n",
       "    </tr>\n",
       "    <tr>\n",
       "      <th>14285495</th>\n",
       "      <td>White</td>\n",
       "      <td>Not approved</td>\n",
       "      <td>88.519997</td>\n",
       "    </tr>\n",
       "  </tbody>\n",
       "</table>\n",
       "<p>9221483 rows × 3 columns</p>\n",
       "</div>"
      ],
      "text/plain": [
       "                       updated_race        action  tract_to_msamd_income\n",
       "1                             White  Not approved              86.239998\n",
       "3                             White      Approved              74.290001\n",
       "7                             Asian  Not approved             116.010002\n",
       "9                             White      Approved              71.129997\n",
       "10        Black or African American  Not approved             100.750000\n",
       "...                             ...           ...                    ...\n",
       "14285487                      White      Approved             120.540001\n",
       "14285488                      Asian  Not approved             138.639999\n",
       "14285489                      White  Not approved             208.770004\n",
       "14285494                      White  Not approved              88.519997\n",
       "14285495                      White  Not approved              88.519997\n",
       "\n",
       "[9221483 rows x 3 columns]"
      ]
     },
     "execution_count": 20,
     "metadata": {},
     "output_type": "execute_result"
    }
   ],
   "source": [
    "dff"
   ]
  },
  {
   "cell_type": "code",
   "execution_count": 123,
   "metadata": {},
   "outputs": [
    {
     "data": {
      "text/html": [
       "<div>\n",
       "<style scoped>\n",
       "    .dataframe tbody tr th:only-of-type {\n",
       "        vertical-align: middle;\n",
       "    }\n",
       "\n",
       "    .dataframe tbody tr th {\n",
       "        vertical-align: top;\n",
       "    }\n",
       "\n",
       "    .dataframe thead th {\n",
       "        text-align: right;\n",
       "    }\n",
       "</style>\n",
       "<table border=\"1\" class=\"dataframe\">\n",
       "  <thead>\n",
       "    <tr style=\"text-align: right;\">\n",
       "      <th></th>\n",
       "      <th></th>\n",
       "      <th>tract_to_msamd_income</th>\n",
       "    </tr>\n",
       "    <tr>\n",
       "      <th>updated_race</th>\n",
       "      <th>action</th>\n",
       "      <th></th>\n",
       "    </tr>\n",
       "  </thead>\n",
       "  <tbody>\n",
       "    <tr>\n",
       "      <th rowspan=\"2\" valign=\"top\">American Indian or Alaska Native</th>\n",
       "      <th>Approved</th>\n",
       "      <td>56106</td>\n",
       "    </tr>\n",
       "    <tr>\n",
       "      <th>Not approved</th>\n",
       "      <td>26472</td>\n",
       "    </tr>\n",
       "    <tr>\n",
       "      <th rowspan=\"2\" valign=\"top\">Asian</th>\n",
       "      <th>Approved</th>\n",
       "      <td>471500</td>\n",
       "    </tr>\n",
       "    <tr>\n",
       "      <th>Not approved</th>\n",
       "      <td>86110</td>\n",
       "    </tr>\n",
       "    <tr>\n",
       "      <th rowspan=\"2\" valign=\"top\">Black or African American</th>\n",
       "      <th>Approved</th>\n",
       "      <td>525374</td>\n",
       "    </tr>\n",
       "    <tr>\n",
       "      <th>Not approved</th>\n",
       "      <td>239879</td>\n",
       "    </tr>\n",
       "    <tr>\n",
       "      <th rowspan=\"2\" valign=\"top\">Hispanic/Latino White</th>\n",
       "      <th>Approved</th>\n",
       "      <td>715814</td>\n",
       "    </tr>\n",
       "    <tr>\n",
       "      <th>Not approved</th>\n",
       "      <td>194737</td>\n",
       "    </tr>\n",
       "    <tr>\n",
       "      <th rowspan=\"2\" valign=\"top\">Native Hawaiian or Other Pacific Islander</th>\n",
       "      <th>Approved</th>\n",
       "      <td>35289</td>\n",
       "    </tr>\n",
       "    <tr>\n",
       "      <th>Not approved</th>\n",
       "      <td>10667</td>\n",
       "    </tr>\n",
       "    <tr>\n",
       "      <th rowspan=\"2\" valign=\"top\">White</th>\n",
       "      <th>Approved</th>\n",
       "      <td>5607252</td>\n",
       "    </tr>\n",
       "    <tr>\n",
       "      <th>Not approved</th>\n",
       "      <td>1060220</td>\n",
       "    </tr>\n",
       "  </tbody>\n",
       "</table>\n",
       "</div>"
      ],
      "text/plain": [
       "                                                        tract_to_msamd_income\n",
       "updated_race                              action                             \n",
       "American Indian or Alaska Native          Approved                      56106\n",
       "                                          Not approved                  26472\n",
       "Asian                                     Approved                     471500\n",
       "                                          Not approved                  86110\n",
       "Black or African American                 Approved                     525374\n",
       "                                          Not approved                 239879\n",
       "Hispanic/Latino White                     Approved                     715814\n",
       "                                          Not approved                 194737\n",
       "Native Hawaiian or Other Pacific Islander Approved                      35289\n",
       "                                          Not approved                  10667\n",
       "White                                     Approved                    5607252\n",
       "                                          Not approved                1060220"
      ]
     },
     "execution_count": 123,
     "metadata": {},
     "output_type": "execute_result"
    }
   ],
   "source": [
    "groups = dff.groupby(['updated_race', 'action']).count()\n",
    "groups"
   ]
  },
  {
   "cell_type": "code",
   "execution_count": 127,
   "metadata": {},
   "outputs": [
    {
     "data": {
      "text/plain": [
       "updated_race\n",
       "American Indian or Alaska Native               85866\n",
       "Asian                                         567335\n",
       "Black or African American                     799753\n",
       "Hispanic/Latino White                         928685\n",
       "Native Hawaiian or Other Pacific Islander      47220\n",
       "White                                        6792624\n",
       "Name: action, dtype: int64"
      ]
     },
     "execution_count": 127,
     "metadata": {},
     "output_type": "execute_result"
    }
   ],
   "source": [
    "count = dff.groupby('updated_race').count()['action']\n",
    "count"
   ]
  },
  {
   "cell_type": "code",
   "execution_count": 138,
   "metadata": {},
   "outputs": [
    {
     "data": {
      "text/html": [
       "<div>\n",
       "<style scoped>\n",
       "    .dataframe tbody tr th:only-of-type {\n",
       "        vertical-align: middle;\n",
       "    }\n",
       "\n",
       "    .dataframe tbody tr th {\n",
       "        vertical-align: top;\n",
       "    }\n",
       "\n",
       "    .dataframe thead th {\n",
       "        text-align: right;\n",
       "    }\n",
       "</style>\n",
       "<table border=\"1\" class=\"dataframe\">\n",
       "  <thead>\n",
       "    <tr style=\"text-align: right;\">\n",
       "      <th></th>\n",
       "      <th></th>\n",
       "      <th>tract_to_msamd_income</th>\n",
       "    </tr>\n",
       "    <tr>\n",
       "      <th>updated_race</th>\n",
       "      <th>action</th>\n",
       "      <th></th>\n",
       "    </tr>\n",
       "  </thead>\n",
       "  <tbody>\n",
       "    <tr>\n",
       "      <th rowspan=\"2\" valign=\"top\">American Indian or Alaska Native</th>\n",
       "      <th>Approved</th>\n",
       "      <td>56106</td>\n",
       "    </tr>\n",
       "    <tr>\n",
       "      <th>Not approved</th>\n",
       "      <td>26472</td>\n",
       "    </tr>\n",
       "    <tr>\n",
       "      <th rowspan=\"2\" valign=\"top\">Asian</th>\n",
       "      <th>Approved</th>\n",
       "      <td>471500</td>\n",
       "    </tr>\n",
       "    <tr>\n",
       "      <th>Not approved</th>\n",
       "      <td>86110</td>\n",
       "    </tr>\n",
       "    <tr>\n",
       "      <th rowspan=\"2\" valign=\"top\">Black or African American</th>\n",
       "      <th>Approved</th>\n",
       "      <td>525374</td>\n",
       "    </tr>\n",
       "    <tr>\n",
       "      <th>Not approved</th>\n",
       "      <td>239879</td>\n",
       "    </tr>\n",
       "    <tr>\n",
       "      <th rowspan=\"2\" valign=\"top\">Hispanic/Latino White</th>\n",
       "      <th>Approved</th>\n",
       "      <td>715814</td>\n",
       "    </tr>\n",
       "    <tr>\n",
       "      <th>Not approved</th>\n",
       "      <td>194737</td>\n",
       "    </tr>\n",
       "    <tr>\n",
       "      <th rowspan=\"2\" valign=\"top\">Native Hawaiian or Other Pacific Islander</th>\n",
       "      <th>Approved</th>\n",
       "      <td>35289</td>\n",
       "    </tr>\n",
       "    <tr>\n",
       "      <th>Not approved</th>\n",
       "      <td>10667</td>\n",
       "    </tr>\n",
       "    <tr>\n",
       "      <th rowspan=\"2\" valign=\"top\">White</th>\n",
       "      <th>Approved</th>\n",
       "      <td>5607252</td>\n",
       "    </tr>\n",
       "    <tr>\n",
       "      <th>Not approved</th>\n",
       "      <td>1060220</td>\n",
       "    </tr>\n",
       "  </tbody>\n",
       "</table>\n",
       "</div>"
      ],
      "text/plain": [
       "                                                        tract_to_msamd_income\n",
       "updated_race                              action                             \n",
       "American Indian or Alaska Native          Approved                      56106\n",
       "                                          Not approved                  26472\n",
       "Asian                                     Approved                     471500\n",
       "                                          Not approved                  86110\n",
       "Black or African American                 Approved                     525374\n",
       "                                          Not approved                 239879\n",
       "Hispanic/Latino White                     Approved                     715814\n",
       "                                          Not approved                 194737\n",
       "Native Hawaiian or Other Pacific Islander Approved                      35289\n",
       "                                          Not approved                  10667\n",
       "White                                     Approved                    5607252\n",
       "                                          Not approved                1060220"
      ]
     },
     "execution_count": 138,
     "metadata": {},
     "output_type": "execute_result"
    }
   ],
   "source": [
    "groups"
   ]
  },
  {
   "cell_type": "code",
   "execution_count": 139,
   "metadata": {},
   "outputs": [
    {
     "data": {
      "text/plain": [
       "updated_race\n",
       "American Indian or Alaska Native               85866\n",
       "Asian                                         567335\n",
       "Black or African American                     799753\n",
       "Hispanic/Latino White                         928685\n",
       "Native Hawaiian or Other Pacific Islander      47220\n",
       "White                                        6792624\n",
       "Name: action, dtype: int64"
      ]
     },
     "execution_count": 139,
     "metadata": {},
     "output_type": "execute_result"
    }
   ],
   "source": [
    "count"
   ]
  },
  {
   "cell_type": "code",
   "execution_count": 21,
   "metadata": {},
   "outputs": [],
   "source": [
    "uniq_race = dff.updated_race.unique()"
   ]
  },
  {
   "cell_type": "code",
   "execution_count": 22,
   "metadata": {},
   "outputs": [
    {
     "name": "stdout",
     "output_type": "stream",
     "text": [
      "White\n",
      "Asian\n",
      "Black or African American\n",
      "Hispanic/Latino White\n",
      "American Indian or Alaska Native\n",
      "Native Hawaiian or Other Pacific Islander\n"
     ]
    },
    {
     "data": {
      "image/png": "[encoded data removed]",
      "text/plain": [
       "<Figure size 432x288 with 1 Axes>"
      ]
     },
     "metadata": {
      "needs_background": "light"
     },
     "output_type": "display_data"
    },
    {
     "data": {
      "image/png": "[encoded data removed]",
      "text/plain": [
       "<Figure size 432x288 with 1 Axes>"
      ]
     },
     "metadata": {
      "needs_background": "light"
     },
     "output_type": "display_data"
    },
    {
     "data": {
      "image/png": "[encoded data removed]",
      "text/plain": [
       "<Figure size 432x288 with 1 Axes>"
      ]
     },
     "metadata": {
      "needs_background": "light"
     },
     "output_type": "display_data"
    },
    {
     "data": {
      "image/png": "[encoded data removed]",
      "text/plain": [
       "<Figure size 432x288 with 1 Axes>"
      ]
     },
     "metadata": {
      "needs_background": "light"
     },
     "output_type": "display_data"
    },
    {
     "data": {
      "image/png": "[encoded data removed]",
      "text/plain": [
       "<Figure size 432x288 with 1 Axes>"
      ]
     },
     "metadata": {
      "needs_background": "light"
     },
     "output_type": "display_data"
    },
    {
     "data": {
      "image/png": "[encoded data removed]",
      "text/plain": [
       "<Figure size 432x288 with 1 Axes>"
      ]
     },
     "metadata": {
      "needs_background": "light"
     },
     "output_type": "display_data"
    }
   ],
   "source": [
    "for i in uniq_race:\n",
    "    print(i)\n",
    "    dff[dff['updated_race'] == i].plot(kind='hist', density=True)"
   ]
  },
  {
   "cell_type": "code",
   "execution_count": 23,
   "metadata": {},
   "outputs": [
    {
     "data": {
      "text/html": [
       "<div>\n",
       "<style scoped>\n",
       "    .dataframe tbody tr th:only-of-type {\n",
       "        vertical-align: middle;\n",
       "    }\n",
       "\n",
       "    .dataframe tbody tr th {\n",
       "        vertical-align: top;\n",
       "    }\n",
       "\n",
       "    .dataframe thead th {\n",
       "        text-align: right;\n",
       "    }\n",
       "</style>\n",
       "<table border=\"1\" class=\"dataframe\">\n",
       "  <thead>\n",
       "    <tr style=\"text-align: right;\">\n",
       "      <th></th>\n",
       "      <th>updated_race</th>\n",
       "      <th>action</th>\n",
       "      <th>tract_to_msamd_income</th>\n",
       "    </tr>\n",
       "  </thead>\n",
       "  <tbody>\n",
       "    <tr>\n",
       "      <th>1</th>\n",
       "      <td>White</td>\n",
       "      <td>Not approved</td>\n",
       "      <td>86.239998</td>\n",
       "    </tr>\n",
       "    <tr>\n",
       "      <th>3</th>\n",
       "      <td>White</td>\n",
       "      <td>Approved</td>\n",
       "      <td>74.290001</td>\n",
       "    </tr>\n",
       "    <tr>\n",
       "      <th>7</th>\n",
       "      <td>Asian</td>\n",
       "      <td>Not approved</td>\n",
       "      <td>116.010002</td>\n",
       "    </tr>\n",
       "    <tr>\n",
       "      <th>9</th>\n",
       "      <td>White</td>\n",
       "      <td>Approved</td>\n",
       "      <td>71.129997</td>\n",
       "    </tr>\n",
       "    <tr>\n",
       "      <th>10</th>\n",
       "      <td>Black or African American</td>\n",
       "      <td>Not approved</td>\n",
       "      <td>100.750000</td>\n",
       "    </tr>\n",
       "    <tr>\n",
       "      <th>...</th>\n",
       "      <td>...</td>\n",
       "      <td>...</td>\n",
       "      <td>...</td>\n",
       "    </tr>\n",
       "    <tr>\n",
       "      <th>14285487</th>\n",
       "      <td>White</td>\n",
       "      <td>Approved</td>\n",
       "      <td>120.540001</td>\n",
       "    </tr>\n",
       "    <tr>\n",
       "      <th>14285488</th>\n",
       "      <td>Asian</td>\n",
       "      <td>Not approved</td>\n",
       "      <td>138.639999</td>\n",
       "    </tr>\n",
       "    <tr>\n",
       "      <th>14285489</th>\n",
       "      <td>White</td>\n",
       "      <td>Not approved</td>\n",
       "      <td>208.770004</td>\n",
       "    </tr>\n",
       "    <tr>\n",
       "      <th>14285494</th>\n",
       "      <td>White</td>\n",
       "      <td>Not approved</td>\n",
       "      <td>88.519997</td>\n",
       "    </tr>\n",
       "    <tr>\n",
       "      <th>14285495</th>\n",
       "      <td>White</td>\n",
       "      <td>Not approved</td>\n",
       "      <td>88.519997</td>\n",
       "    </tr>\n",
       "  </tbody>\n",
       "</table>\n",
       "<p>9221483 rows × 3 columns</p>\n",
       "</div>"
      ],
      "text/plain": [
       "                       updated_race        action  tract_to_msamd_income\n",
       "1                             White  Not approved              86.239998\n",
       "3                             White      Approved              74.290001\n",
       "7                             Asian  Not approved             116.010002\n",
       "9                             White      Approved              71.129997\n",
       "10        Black or African American  Not approved             100.750000\n",
       "...                             ...           ...                    ...\n",
       "14285487                      White      Approved             120.540001\n",
       "14285488                      Asian  Not approved             138.639999\n",
       "14285489                      White  Not approved             208.770004\n",
       "14285494                      White  Not approved              88.519997\n",
       "14285495                      White  Not approved              88.519997\n",
       "\n",
       "[9221483 rows x 3 columns]"
      ]
     },
     "execution_count": 23,
     "metadata": {},
     "output_type": "execute_result"
    }
   ],
   "source": [
    "dff"
   ]
  },
  {
   "cell_type": "code",
   "execution_count": 24,
   "metadata": {},
   "outputs": [
    {
     "data": {
      "text/plain": [
       "array(['White', 'Asian', 'Black or African American',\n",
       "       'Hispanic/Latino White', 'American Indian or Alaska Native',\n",
       "       'Native Hawaiian or Other Pacific Islander'], dtype=object)"
      ]
     },
     "execution_count": 24,
     "metadata": {},
     "output_type": "execute_result"
    }
   ],
   "source": [
    "uniq_race"
   ]
  },
  {
   "cell_type": "code",
   "execution_count": 25,
   "metadata": {},
   "outputs": [
    {
     "name": "stdout",
     "output_type": "stream",
     "text": [
      "White\n"
     ]
    },
    {
     "data": {
      "text/html": [
       "<div>\n",
       "<style scoped>\n",
       "    .dataframe tbody tr th:only-of-type {\n",
       "        vertical-align: middle;\n",
       "    }\n",
       "\n",
       "    .dataframe tbody tr th {\n",
       "        vertical-align: top;\n",
       "    }\n",
       "\n",
       "    .dataframe thead th {\n",
       "        text-align: right;\n",
       "    }\n",
       "</style>\n",
       "<table border=\"1\" class=\"dataframe\">\n",
       "  <thead>\n",
       "    <tr style=\"text-align: right;\">\n",
       "      <th></th>\n",
       "      <th>tract_to_msamd_income</th>\n",
       "    </tr>\n",
       "    <tr>\n",
       "      <th>action</th>\n",
       "      <th></th>\n",
       "    </tr>\n",
       "  </thead>\n",
       "  <tbody>\n",
       "    <tr>\n",
       "      <th>Approved</th>\n",
       "      <td>117.301518</td>\n",
       "    </tr>\n",
       "    <tr>\n",
       "      <th>Not approved</th>\n",
       "      <td>110.989989</td>\n",
       "    </tr>\n",
       "  </tbody>\n",
       "</table>\n",
       "</div>"
      ],
      "text/plain": [
       "              tract_to_msamd_income\n",
       "action                             \n",
       "Approved                 117.301518\n",
       "Not approved             110.989989"
      ]
     },
     "execution_count": 25,
     "metadata": {},
     "output_type": "execute_result"
    }
   ],
   "source": [
    "print(uniq_race[0])\n",
    "w = dff[dff['updated_race'] == uniq_race[0]].groupby('action').mean()\n",
    "w"
   ]
  },
  {
   "cell_type": "code",
   "execution_count": 26,
   "metadata": {},
   "outputs": [
    {
     "name": "stdout",
     "output_type": "stream",
     "text": [
      "Asian\n"
     ]
    },
    {
     "data": {
      "text/html": [
       "<div>\n",
       "<style scoped>\n",
       "    .dataframe tbody tr th:only-of-type {\n",
       "        vertical-align: middle;\n",
       "    }\n",
       "\n",
       "    .dataframe tbody tr th {\n",
       "        vertical-align: top;\n",
       "    }\n",
       "\n",
       "    .dataframe thead th {\n",
       "        text-align: right;\n",
       "    }\n",
       "</style>\n",
       "<table border=\"1\" class=\"dataframe\">\n",
       "  <thead>\n",
       "    <tr style=\"text-align: right;\">\n",
       "      <th></th>\n",
       "      <th>tract_to_msamd_income</th>\n",
       "    </tr>\n",
       "    <tr>\n",
       "      <th>action</th>\n",
       "      <th></th>\n",
       "    </tr>\n",
       "  </thead>\n",
       "  <tbody>\n",
       "    <tr>\n",
       "      <th>Approved</th>\n",
       "      <td>124.435816</td>\n",
       "    </tr>\n",
       "    <tr>\n",
       "      <th>Not approved</th>\n",
       "      <td>117.592282</td>\n",
       "    </tr>\n",
       "  </tbody>\n",
       "</table>\n",
       "</div>"
      ],
      "text/plain": [
       "              tract_to_msamd_income\n",
       "action                             \n",
       "Approved                 124.435816\n",
       "Not approved             117.592282"
      ]
     },
     "execution_count": 26,
     "metadata": {},
     "output_type": "execute_result"
    }
   ],
   "source": [
    "print(uniq_race[1])\n",
    "a = dff[dff['updated_race'] == uniq_race[1]].groupby('action').mean()\n",
    "a"
   ]
  },
  {
   "cell_type": "code",
   "execution_count": 27,
   "metadata": {},
   "outputs": [
    {
     "name": "stdout",
     "output_type": "stream",
     "text": [
      "Black or African American\n"
     ]
    },
    {
     "data": {
      "text/html": [
       "<div>\n",
       "<style scoped>\n",
       "    .dataframe tbody tr th:only-of-type {\n",
       "        vertical-align: middle;\n",
       "    }\n",
       "\n",
       "    .dataframe tbody tr th {\n",
       "        vertical-align: top;\n",
       "    }\n",
       "\n",
       "    .dataframe thead th {\n",
       "        text-align: right;\n",
       "    }\n",
       "</style>\n",
       "<table border=\"1\" class=\"dataframe\">\n",
       "  <thead>\n",
       "    <tr style=\"text-align: right;\">\n",
       "      <th></th>\n",
       "      <th>tract_to_msamd_income</th>\n",
       "    </tr>\n",
       "    <tr>\n",
       "      <th>action</th>\n",
       "      <th></th>\n",
       "    </tr>\n",
       "  </thead>\n",
       "  <tbody>\n",
       "    <tr>\n",
       "      <th>Approved</th>\n",
       "      <td>100.727468</td>\n",
       "    </tr>\n",
       "    <tr>\n",
       "      <th>Not approved</th>\n",
       "      <td>91.924282</td>\n",
       "    </tr>\n",
       "  </tbody>\n",
       "</table>\n",
       "</div>"
      ],
      "text/plain": [
       "              tract_to_msamd_income\n",
       "action                             \n",
       "Approved                 100.727468\n",
       "Not approved              91.924282"
      ]
     },
     "execution_count": 27,
     "metadata": {},
     "output_type": "execute_result"
    }
   ],
   "source": [
    "print(uniq_race[2])\n",
    "b = dff[dff['updated_race'] == uniq_race[2]].groupby('action').mean()\n",
    "b"
   ]
  },
  {
   "cell_type": "code",
   "execution_count": 28,
   "metadata": {},
   "outputs": [
    {
     "name": "stdout",
     "output_type": "stream",
     "text": [
      "Hispanic/Latino White\n"
     ]
    },
    {
     "data": {
      "text/html": [
       "<div>\n",
       "<style scoped>\n",
       "    .dataframe tbody tr th:only-of-type {\n",
       "        vertical-align: middle;\n",
       "    }\n",
       "\n",
       "    .dataframe tbody tr th {\n",
       "        vertical-align: top;\n",
       "    }\n",
       "\n",
       "    .dataframe thead th {\n",
       "        text-align: right;\n",
       "    }\n",
       "</style>\n",
       "<table border=\"1\" class=\"dataframe\">\n",
       "  <thead>\n",
       "    <tr style=\"text-align: right;\">\n",
       "      <th></th>\n",
       "      <th>tract_to_msamd_income</th>\n",
       "    </tr>\n",
       "    <tr>\n",
       "      <th>action</th>\n",
       "      <th></th>\n",
       "    </tr>\n",
       "  </thead>\n",
       "  <tbody>\n",
       "    <tr>\n",
       "      <th>Approved</th>\n",
       "      <td>104.111369</td>\n",
       "    </tr>\n",
       "    <tr>\n",
       "      <th>Not approved</th>\n",
       "      <td>99.078501</td>\n",
       "    </tr>\n",
       "  </tbody>\n",
       "</table>\n",
       "</div>"
      ],
      "text/plain": [
       "              tract_to_msamd_income\n",
       "action                             \n",
       "Approved                 104.111369\n",
       "Not approved              99.078501"
      ]
     },
     "execution_count": 28,
     "metadata": {},
     "output_type": "execute_result"
    }
   ],
   "source": [
    "print(uniq_race[3])\n",
    "hw = dff[dff['updated_race'] == uniq_race[3]].groupby('action').mean()\n",
    "hw"
   ]
  },
  {
   "cell_type": "code",
   "execution_count": 29,
   "metadata": {},
   "outputs": [
    {
     "name": "stdout",
     "output_type": "stream",
     "text": [
      "American Indian or Alaska Native\n"
     ]
    },
    {
     "data": {
      "text/html": [
       "<div>\n",
       "<style scoped>\n",
       "    .dataframe tbody tr th:only-of-type {\n",
       "        vertical-align: middle;\n",
       "    }\n",
       "\n",
       "    .dataframe tbody tr th {\n",
       "        vertical-align: top;\n",
       "    }\n",
       "\n",
       "    .dataframe thead th {\n",
       "        text-align: right;\n",
       "    }\n",
       "</style>\n",
       "<table border=\"1\" class=\"dataframe\">\n",
       "  <thead>\n",
       "    <tr style=\"text-align: right;\">\n",
       "      <th></th>\n",
       "      <th>tract_to_msamd_income</th>\n",
       "    </tr>\n",
       "    <tr>\n",
       "      <th>action</th>\n",
       "      <th></th>\n",
       "    </tr>\n",
       "  </thead>\n",
       "  <tbody>\n",
       "    <tr>\n",
       "      <th>Approved</th>\n",
       "      <td>106.794716</td>\n",
       "    </tr>\n",
       "    <tr>\n",
       "      <th>Not approved</th>\n",
       "      <td>98.491122</td>\n",
       "    </tr>\n",
       "  </tbody>\n",
       "</table>\n",
       "</div>"
      ],
      "text/plain": [
       "              tract_to_msamd_income\n",
       "action                             \n",
       "Approved                 106.794716\n",
       "Not approved              98.491122"
      ]
     },
     "execution_count": 29,
     "metadata": {},
     "output_type": "execute_result"
    }
   ],
   "source": [
    "print(uniq_race[4])\n",
    "ai = dff[dff['updated_race'] == uniq_race[4]].groupby('action').mean()\n",
    "ai"
   ]
  },
  {
   "cell_type": "code",
   "execution_count": 30,
   "metadata": {},
   "outputs": [
    {
     "name": "stdout",
     "output_type": "stream",
     "text": [
      "Native Hawaiian or Other Pacific Islander\n"
     ]
    },
    {
     "data": {
      "text/html": [
       "<div>\n",
       "<style scoped>\n",
       "    .dataframe tbody tr th:only-of-type {\n",
       "        vertical-align: middle;\n",
       "    }\n",
       "\n",
       "    .dataframe tbody tr th {\n",
       "        vertical-align: top;\n",
       "    }\n",
       "\n",
       "    .dataframe thead th {\n",
       "        text-align: right;\n",
       "    }\n",
       "</style>\n",
       "<table border=\"1\" class=\"dataframe\">\n",
       "  <thead>\n",
       "    <tr style=\"text-align: right;\">\n",
       "      <th></th>\n",
       "      <th>tract_to_msamd_income</th>\n",
       "    </tr>\n",
       "    <tr>\n",
       "      <th>action</th>\n",
       "      <th></th>\n",
       "    </tr>\n",
       "  </thead>\n",
       "  <tbody>\n",
       "    <tr>\n",
       "      <th>Approved</th>\n",
       "      <td>110.197257</td>\n",
       "    </tr>\n",
       "    <tr>\n",
       "      <th>Not approved</th>\n",
       "      <td>102.658895</td>\n",
       "    </tr>\n",
       "  </tbody>\n",
       "</table>\n",
       "</div>"
      ],
      "text/plain": [
       "              tract_to_msamd_income\n",
       "action                             \n",
       "Approved                 110.197257\n",
       "Not approved             102.658895"
      ]
     },
     "execution_count": 30,
     "metadata": {},
     "output_type": "execute_result"
    }
   ],
   "source": [
    "print(uniq_race[5])\n",
    "hp = dff[dff['updated_race'] == uniq_race[5]].groupby('action').mean()\n",
    "hp"
   ]
  },
  {
   "cell_type": "code",
   "execution_count": 31,
   "metadata": {},
   "outputs": [
    {
     "data": {
      "text/plain": [
       "110.19725690834811"
      ]
     },
     "execution_count": 31,
     "metadata": {},
     "output_type": "execute_result"
    }
   ],
   "source": [
    "hp.tract_to_msamd_income[0]"
   ]
  },
  {
   "cell_type": "code",
   "execution_count": 32,
   "metadata": {},
   "outputs": [],
   "source": [
    "lst = np.array([w,a,b,hw,ai,hp])"
   ]
  },
  {
   "cell_type": "code",
   "execution_count": 33,
   "metadata": {},
   "outputs": [
    {
     "data": {
      "text/plain": [
       "Text(0.5, 1.0, 'Difference of \"tract_to_msamd_income\" Means Between \"Approved\" and \"Not approved\"')"
      ]
     },
     "execution_count": 33,
     "metadata": {},
     "output_type": "execute_result"
    },
    {
     "data": {
      "image/png": "[encoded data removed]",
      "text/plain": [
       "<Figure size 432x288 with 1 Axes>"
      ]
     },
     "metadata": {
      "needs_background": "light"
     },
     "output_type": "display_data"
    }
   ],
   "source": [
    "r_diff_dict = {}\n",
    "\n",
    "for i in range(len(uniq_race)):\n",
    "    r_diff_dict[uniq_race[i]] = lst[i][0][0] - lst[i][1][0]\n",
    "\n",
    "pd.Series(r_diff_dict).plot(kind='barh')\n",
    "plt.title('Difference of \"tract_to_msamd_income\" Means Between \"Approved\" and \"Not approved\"')"
   ]
  },
  {
   "cell_type": "code",
   "execution_count": 34,
   "metadata": {},
   "outputs": [
    {
     "data": {
      "text/html": [
       "<div>\n",
       "<style scoped>\n",
       "    .dataframe tbody tr th:only-of-type {\n",
       "        vertical-align: middle;\n",
       "    }\n",
       "\n",
       "    .dataframe tbody tr th {\n",
       "        vertical-align: top;\n",
       "    }\n",
       "\n",
       "    .dataframe thead th {\n",
       "        text-align: right;\n",
       "    }\n",
       "</style>\n",
       "<table border=\"1\" class=\"dataframe\">\n",
       "  <thead>\n",
       "    <tr style=\"text-align: right;\">\n",
       "      <th></th>\n",
       "      <th>applicant_race_name_1</th>\n",
       "      <th>applicant_ethnicity_name</th>\n",
       "      <th>action_taken_name</th>\n",
       "      <th>applicant_income_000s</th>\n",
       "      <th>tract_to_msamd_income</th>\n",
       "      <th>hoepa_status_name</th>\n",
       "      <th>loan_amount_000s</th>\n",
       "      <th>action</th>\n",
       "      <th>updated_race</th>\n",
       "    </tr>\n",
       "  </thead>\n",
       "  <tbody>\n",
       "    <tr>\n",
       "      <th>1</th>\n",
       "      <td>White</td>\n",
       "      <td>Not Hispanic or Latino</td>\n",
       "      <td>Application denied by financial institution</td>\n",
       "      <td>60.0</td>\n",
       "      <td>86.239998</td>\n",
       "      <td>Not a HOEPA loan</td>\n",
       "      <td>168.0</td>\n",
       "      <td>Not approved</td>\n",
       "      <td>White</td>\n",
       "    </tr>\n",
       "    <tr>\n",
       "      <th>3</th>\n",
       "      <td>White</td>\n",
       "      <td>Not Hispanic or Latino</td>\n",
       "      <td>Loan originated</td>\n",
       "      <td>53.0</td>\n",
       "      <td>74.290001</td>\n",
       "      <td>Not a HOEPA loan</td>\n",
       "      <td>88.0</td>\n",
       "      <td>Approved</td>\n",
       "      <td>White</td>\n",
       "    </tr>\n",
       "    <tr>\n",
       "      <th>7</th>\n",
       "      <td>Asian</td>\n",
       "      <td>Not Hispanic or Latino</td>\n",
       "      <td>Application denied by financial institution</td>\n",
       "      <td>51.0</td>\n",
       "      <td>116.010002</td>\n",
       "      <td>Not a HOEPA loan</td>\n",
       "      <td>185.0</td>\n",
       "      <td>Not approved</td>\n",
       "      <td>Asian</td>\n",
       "    </tr>\n",
       "    <tr>\n",
       "      <th>9</th>\n",
       "      <td>White</td>\n",
       "      <td>Not Hispanic or Latino</td>\n",
       "      <td>Loan originated</td>\n",
       "      <td>31.0</td>\n",
       "      <td>71.129997</td>\n",
       "      <td>Not a HOEPA loan</td>\n",
       "      <td>94.0</td>\n",
       "      <td>Approved</td>\n",
       "      <td>White</td>\n",
       "    </tr>\n",
       "    <tr>\n",
       "      <th>10</th>\n",
       "      <td>Black or African American</td>\n",
       "      <td>Not Hispanic or Latino</td>\n",
       "      <td>Application denied by financial institution</td>\n",
       "      <td>26.0</td>\n",
       "      <td>100.750000</td>\n",
       "      <td>Not a HOEPA loan</td>\n",
       "      <td>95.0</td>\n",
       "      <td>Not approved</td>\n",
       "      <td>Black or African American</td>\n",
       "    </tr>\n",
       "    <tr>\n",
       "      <th>...</th>\n",
       "      <td>...</td>\n",
       "      <td>...</td>\n",
       "      <td>...</td>\n",
       "      <td>...</td>\n",
       "      <td>...</td>\n",
       "      <td>...</td>\n",
       "      <td>...</td>\n",
       "      <td>...</td>\n",
       "      <td>...</td>\n",
       "    </tr>\n",
       "    <tr>\n",
       "      <th>14285487</th>\n",
       "      <td>White</td>\n",
       "      <td>Not Hispanic or Latino</td>\n",
       "      <td>Application approved but not accepted</td>\n",
       "      <td>31.0</td>\n",
       "      <td>120.540001</td>\n",
       "      <td>Not a HOEPA loan</td>\n",
       "      <td>188.0</td>\n",
       "      <td>Approved</td>\n",
       "      <td>White</td>\n",
       "    </tr>\n",
       "    <tr>\n",
       "      <th>14285488</th>\n",
       "      <td>Asian</td>\n",
       "      <td>Not Hispanic or Latino</td>\n",
       "      <td>Application denied by financial institution</td>\n",
       "      <td>70.0</td>\n",
       "      <td>138.639999</td>\n",
       "      <td>Not a HOEPA loan</td>\n",
       "      <td>340.0</td>\n",
       "      <td>Not approved</td>\n",
       "      <td>Asian</td>\n",
       "    </tr>\n",
       "    <tr>\n",
       "      <th>14285489</th>\n",
       "      <td>White</td>\n",
       "      <td>Not Hispanic or Latino</td>\n",
       "      <td>Application denied by financial institution</td>\n",
       "      <td>84.0</td>\n",
       "      <td>208.770004</td>\n",
       "      <td>Not a HOEPA loan</td>\n",
       "      <td>324.0</td>\n",
       "      <td>Not approved</td>\n",
       "      <td>White</td>\n",
       "    </tr>\n",
       "    <tr>\n",
       "      <th>14285494</th>\n",
       "      <td>White</td>\n",
       "      <td>Not Hispanic or Latino</td>\n",
       "      <td>Application denied by financial institution</td>\n",
       "      <td>55.0</td>\n",
       "      <td>88.519997</td>\n",
       "      <td>Not a HOEPA loan</td>\n",
       "      <td>141.0</td>\n",
       "      <td>Not approved</td>\n",
       "      <td>White</td>\n",
       "    </tr>\n",
       "    <tr>\n",
       "      <th>14285495</th>\n",
       "      <td>White</td>\n",
       "      <td>Not Hispanic or Latino</td>\n",
       "      <td>Application denied by financial institution</td>\n",
       "      <td>106.0</td>\n",
       "      <td>88.519997</td>\n",
       "      <td>Not a HOEPA loan</td>\n",
       "      <td>75.0</td>\n",
       "      <td>Not approved</td>\n",
       "      <td>White</td>\n",
       "    </tr>\n",
       "  </tbody>\n",
       "</table>\n",
       "<p>9221483 rows × 9 columns</p>\n",
       "</div>"
      ],
      "text/plain": [
       "              applicant_race_name_1 applicant_ethnicity_name  \\\n",
       "1                             White   Not Hispanic or Latino   \n",
       "3                             White   Not Hispanic or Latino   \n",
       "7                             Asian   Not Hispanic or Latino   \n",
       "9                             White   Not Hispanic or Latino   \n",
       "10        Black or African American   Not Hispanic or Latino   \n",
       "...                             ...                      ...   \n",
       "14285487                      White   Not Hispanic or Latino   \n",
       "14285488                      Asian   Not Hispanic or Latino   \n",
       "14285489                      White   Not Hispanic or Latino   \n",
       "14285494                      White   Not Hispanic or Latino   \n",
       "14285495                      White   Not Hispanic or Latino   \n",
       "\n",
       "                                    action_taken_name  applicant_income_000s  \\\n",
       "1         Application denied by financial institution                   60.0   \n",
       "3                                     Loan originated                   53.0   \n",
       "7         Application denied by financial institution                   51.0   \n",
       "9                                     Loan originated                   31.0   \n",
       "10        Application denied by financial institution                   26.0   \n",
       "...                                               ...                    ...   \n",
       "14285487        Application approved but not accepted                   31.0   \n",
       "14285488  Application denied by financial institution                   70.0   \n",
       "14285489  Application denied by financial institution                   84.0   \n",
       "14285494  Application denied by financial institution                   55.0   \n",
       "14285495  Application denied by financial institution                  106.0   \n",
       "\n",
       "          tract_to_msamd_income hoepa_status_name  loan_amount_000s  \\\n",
       "1                     86.239998  Not a HOEPA loan             168.0   \n",
       "3                     74.290001  Not a HOEPA loan              88.0   \n",
       "7                    116.010002  Not a HOEPA loan             185.0   \n",
       "9                     71.129997  Not a HOEPA loan              94.0   \n",
       "10                   100.750000  Not a HOEPA loan              95.0   \n",
       "...                         ...               ...               ...   \n",
       "14285487             120.540001  Not a HOEPA loan             188.0   \n",
       "14285488             138.639999  Not a HOEPA loan             340.0   \n",
       "14285489             208.770004  Not a HOEPA loan             324.0   \n",
       "14285494              88.519997  Not a HOEPA loan             141.0   \n",
       "14285495              88.519997  Not a HOEPA loan              75.0   \n",
       "\n",
       "                action               updated_race  \n",
       "1         Not approved                      White  \n",
       "3             Approved                      White  \n",
       "7         Not approved                      Asian  \n",
       "9             Approved                      White  \n",
       "10        Not approved  Black or African American  \n",
       "...                ...                        ...  \n",
       "14285487      Approved                      White  \n",
       "14285488  Not approved                      Asian  \n",
       "14285489  Not approved                      White  \n",
       "14285494  Not approved                      White  \n",
       "14285495  Not approved                      White  \n",
       "\n",
       "[9221483 rows x 9 columns]"
      ]
     },
     "execution_count": 34,
     "metadata": {},
     "output_type": "execute_result"
    }
   ],
   "source": [
    "df"
   ]
  },
  {
   "cell_type": "code",
   "execution_count": 35,
   "metadata": {},
   "outputs": [],
   "source": [
    "dfff = dff.copy()"
   ]
  },
  {
   "cell_type": "code",
   "execution_count": 49,
   "metadata": {},
   "outputs": [
    {
     "data": {
      "text/html": [
       "<div>\n",
       "<style scoped>\n",
       "    .dataframe tbody tr th:only-of-type {\n",
       "        vertical-align: middle;\n",
       "    }\n",
       "\n",
       "    .dataframe tbody tr th {\n",
       "        vertical-align: top;\n",
       "    }\n",
       "\n",
       "    .dataframe thead th {\n",
       "        text-align: right;\n",
       "    }\n",
       "</style>\n",
       "<table border=\"1\" class=\"dataframe\">\n",
       "  <thead>\n",
       "    <tr style=\"text-align: right;\">\n",
       "      <th></th>\n",
       "      <th>updated_race</th>\n",
       "      <th>action</th>\n",
       "      <th>loan_prop</th>\n",
       "    </tr>\n",
       "  </thead>\n",
       "  <tbody>\n",
       "    <tr>\n",
       "      <th>1</th>\n",
       "      <td>White</td>\n",
       "      <td>Not approved</td>\n",
       "      <td>2.800000</td>\n",
       "    </tr>\n",
       "    <tr>\n",
       "      <th>3</th>\n",
       "      <td>White</td>\n",
       "      <td>Approved</td>\n",
       "      <td>1.660377</td>\n",
       "    </tr>\n",
       "    <tr>\n",
       "      <th>7</th>\n",
       "      <td>Asian</td>\n",
       "      <td>Not approved</td>\n",
       "      <td>3.627451</td>\n",
       "    </tr>\n",
       "    <tr>\n",
       "      <th>9</th>\n",
       "      <td>White</td>\n",
       "      <td>Approved</td>\n",
       "      <td>3.032258</td>\n",
       "    </tr>\n",
       "    <tr>\n",
       "      <th>10</th>\n",
       "      <td>Black or African American</td>\n",
       "      <td>Not approved</td>\n",
       "      <td>3.653846</td>\n",
       "    </tr>\n",
       "    <tr>\n",
       "      <th>...</th>\n",
       "      <td>...</td>\n",
       "      <td>...</td>\n",
       "      <td>...</td>\n",
       "    </tr>\n",
       "    <tr>\n",
       "      <th>14285487</th>\n",
       "      <td>White</td>\n",
       "      <td>Approved</td>\n",
       "      <td>6.064516</td>\n",
       "    </tr>\n",
       "    <tr>\n",
       "      <th>14285488</th>\n",
       "      <td>Asian</td>\n",
       "      <td>Not approved</td>\n",
       "      <td>4.857143</td>\n",
       "    </tr>\n",
       "    <tr>\n",
       "      <th>14285489</th>\n",
       "      <td>White</td>\n",
       "      <td>Not approved</td>\n",
       "      <td>3.857143</td>\n",
       "    </tr>\n",
       "    <tr>\n",
       "      <th>14285494</th>\n",
       "      <td>White</td>\n",
       "      <td>Not approved</td>\n",
       "      <td>2.563636</td>\n",
       "    </tr>\n",
       "    <tr>\n",
       "      <th>14285495</th>\n",
       "      <td>White</td>\n",
       "      <td>Not approved</td>\n",
       "      <td>0.707547</td>\n",
       "    </tr>\n",
       "  </tbody>\n",
       "</table>\n",
       "<p>9221483 rows × 3 columns</p>\n",
       "</div>"
      ],
      "text/plain": [
       "                       updated_race        action  loan_prop\n",
       "1                             White  Not approved   2.800000\n",
       "3                             White      Approved   1.660377\n",
       "7                             Asian  Not approved   3.627451\n",
       "9                             White      Approved   3.032258\n",
       "10        Black or African American  Not approved   3.653846\n",
       "...                             ...           ...        ...\n",
       "14285487                      White      Approved   6.064516\n",
       "14285488                      Asian  Not approved   4.857143\n",
       "14285489                      White  Not approved   3.857143\n",
       "14285494                      White  Not approved   2.563636\n",
       "14285495                      White  Not approved   0.707547\n",
       "\n",
       "[9221483 rows x 3 columns]"
      ]
     },
     "execution_count": 49,
     "metadata": {},
     "output_type": "execute_result"
    }
   ],
   "source": [
    "dfff['loan_prop'] = df.loan_amount_000s / df.applicant_income_000s\n",
    "dfff = dfff.drop(['tract_to_msamd_income'], axis = 1)\n",
    "dfff"
   ]
  },
  {
   "cell_type": "code",
   "execution_count": 106,
   "metadata": {},
   "outputs": [
    {
     "data": {
      "text/html": [
       "<div>\n",
       "<style scoped>\n",
       "    .dataframe tbody tr th:only-of-type {\n",
       "        vertical-align: middle;\n",
       "    }\n",
       "\n",
       "    .dataframe tbody tr th {\n",
       "        vertical-align: top;\n",
       "    }\n",
       "\n",
       "    .dataframe thead tr th {\n",
       "        text-align: left;\n",
       "    }\n",
       "\n",
       "    .dataframe thead tr:last-of-type th {\n",
       "        text-align: right;\n",
       "    }\n",
       "</style>\n",
       "<table border=\"1\" class=\"dataframe\">\n",
       "  <thead>\n",
       "    <tr>\n",
       "      <th></th>\n",
       "      <th colspan=\"2\" halign=\"left\">loan_prop</th>\n",
       "    </tr>\n",
       "    <tr>\n",
       "      <th>action</th>\n",
       "      <th>Approved</th>\n",
       "      <th>Not approved</th>\n",
       "    </tr>\n",
       "    <tr>\n",
       "      <th>updated_race</th>\n",
       "      <th></th>\n",
       "      <th></th>\n",
       "    </tr>\n",
       "  </thead>\n",
       "  <tbody>\n",
       "    <tr>\n",
       "      <th>American Indian or Alaska Native</th>\n",
       "      <td>2.559950</td>\n",
       "      <td>2.784708</td>\n",
       "    </tr>\n",
       "    <tr>\n",
       "      <th>Asian</th>\n",
       "      <td>3.101062</td>\n",
       "      <td>4.222266</td>\n",
       "    </tr>\n",
       "    <tr>\n",
       "      <th>Black or African American</th>\n",
       "      <td>2.688746</td>\n",
       "      <td>2.816095</td>\n",
       "    </tr>\n",
       "    <tr>\n",
       "      <th>Hispanic/Latino White</th>\n",
       "      <td>2.972438</td>\n",
       "      <td>3.159720</td>\n",
       "    </tr>\n",
       "    <tr>\n",
       "      <th>Native Hawaiian or Other Pacific Islander</th>\n",
       "      <td>3.043613</td>\n",
       "      <td>3.530061</td>\n",
       "    </tr>\n",
       "    <tr>\n",
       "      <th>White</th>\n",
       "      <td>2.493813</td>\n",
       "      <td>3.086262</td>\n",
       "    </tr>\n",
       "  </tbody>\n",
       "</table>\n",
       "</div>"
      ],
      "text/plain": [
       "                                          loan_prop             \n",
       "action                                     Approved Not approved\n",
       "updated_race                                                    \n",
       "American Indian or Alaska Native           2.559950     2.784708\n",
       "Asian                                      3.101062     4.222266\n",
       "Black or African American                  2.688746     2.816095\n",
       "Hispanic/Latino White                      2.972438     3.159720\n",
       "Native Hawaiian or Other Pacific Islander  3.043613     3.530061\n",
       "White                                      2.493813     3.086262"
      ]
     },
     "execution_count": 106,
     "metadata": {},
     "output_type": "execute_result"
    }
   ],
   "source": [
    "x = dfff.groupby(['updated_race', 'action']).mean().unstack()\n",
    "x\n"
   ]
  },
  {
   "cell_type": "code",
   "execution_count": 154,
   "metadata": {},
   "outputs": [
    {
     "data": {
      "text/plain": [
       "<matplotlib.legend.Legend at 0x1424a9880>"
      ]
     },
     "execution_count": 154,
     "metadata": {},
     "output_type": "execute_result"
    },
    {
     "data": {
      "image/png": "[encoded data removed]",
      "text/plain": [
       "<Figure size 432x288 with 1 Axes>"
      ]
     },
     "metadata": {
      "needs_background": "light"
     },
     "output_type": "display_data"
    }
   ],
   "source": [
    "x.plot(kind='barh', color=['blue', 'orange'])\n",
    "plt.ylabel('Race')\n",
    "plt.xlabel('Ratio between Loan Requested (dollars) and Income (dollars)')\n",
    "plt.title('Approved and Not approved Loan Ratio in Relation to Income by Race')\n",
    "handles, labels = plt.gca().get_legend_handles_labels()\n",
    "order = [1,0]\n",
    "plt.legend([handles[idx] for idx in order],[labels[idx] for idx in order], bbox_to_anchor=(1, 1)) "
   ]
  },
  {
   "cell_type": "code",
   "execution_count": 37,
   "metadata": {},
   "outputs": [
    {
     "data": {
      "image/png": "[encoded data removed]",
      "text/plain": [
       "<Figure size 432x288 with 1 Axes>"
      ]
     },
     "metadata": {
      "needs_background": "light"
     },
     "output_type": "display_data"
    },
    {
     "data": {
      "image/png": "[encoded data removed]",
      "text/plain": [
       "<Figure size 432x288 with 1 Axes>"
      ]
     },
     "metadata": {
      "needs_background": "light"
     },
     "output_type": "display_data"
    },
    {
     "data": {
      "image/png": "[encoded data removed]",
      "text/plain": [
       "<Figure size 432x288 with 1 Axes>"
      ]
     },
     "metadata": {
      "needs_background": "light"
     },
     "output_type": "display_data"
    },
    {
     "data": {
      "image/png": "[encoded data removed]",
      "text/plain": [
       "<Figure size 432x288 with 1 Axes>"
      ]
     },
     "metadata": {
      "needs_background": "light"
     },
     "output_type": "display_data"
    },
    {
     "data": {
      "image/png": "[encoded data removed]",
      "text/plain": [
       "<Figure size 432x288 with 1 Axes>"
      ]
     },
     "metadata": {
      "needs_background": "light"
     },
     "output_type": "display_data"
    },
    {
     "data": {
      "image/png": "[encoded data removed]",
      "text/plain": [
       "<Figure size 432x288 with 1 Axes>"
      ]
     },
     "metadata": {
      "needs_background": "light"
     },
     "output_type": "display_data"
    }
   ],
   "source": [
    "for i in uniq_race:\n",
    "    curr_race = dfff[dfff['updated_race'] == i]\n",
    "    curr_race.boxplot(by='action')\n",
    "    plt.ylim(0 , 10)\n",
    "    plt.title(i) "
   ]
  },
  {
   "cell_type": "code",
   "execution_count": 38,
   "metadata": {},
   "outputs": [
    {
     "data": {
      "image/png": "[encoded data removed]",
      "text/plain": [
       "<Figure size 432x288 with 1 Axes>"
      ]
     },
     "metadata": {
      "needs_background": "light"
     },
     "output_type": "display_data"
    },
    {
     "data": {
      "image/png": "[encoded data removed]",
      "text/plain": [
       "<Figure size 432x288 with 1 Axes>"
      ]
     },
     "metadata": {
      "needs_background": "light"
     },
     "output_type": "display_data"
    },
    {
     "data": {
      "image/png": "[encoded data removed]",
      "text/plain": [
       "<Figure size 432x288 with 1 Axes>"
      ]
     },
     "metadata": {
      "needs_background": "light"
     },
     "output_type": "display_data"
    },
    {
     "data": {
      "image/png": "[encoded data removed]",
      "text/plain": [
       "<Figure size 432x288 with 1 Axes>"
      ]
     },
     "metadata": {
      "needs_background": "light"
     },
     "output_type": "display_data"
    },
    {
     "data": {
      "image/png": "[encoded data removed]",
      "text/plain": [
       "<Figure size 432x288 with 1 Axes>"
      ]
     },
     "metadata": {
      "needs_background": "light"
     },
     "output_type": "display_data"
    },
    {
     "data": {
      "image/png": "[encoded data removed]",
      "text/plain": [
       "<Figure size 432x288 with 1 Axes>"
      ]
     },
     "metadata": {
      "needs_background": "light"
     },
     "output_type": "display_data"
    }
   ],
   "source": [
    "for i in uniq_race:\n",
    "    curr_race = dff[dff['updated_race'] == i]\n",
    "    # app = curr_race[curr_race['action'] == 'Approved']\n",
    "    # not_app = curr_race[curr_race['action'] == 'Not approved']\n",
    "    curr_race.boxplot(by='action')\n",
    "    plt.ylim(0 , 250)\n",
    "    plt.title(i)"
   ]
  },
  {
   "cell_type": "code",
   "execution_count": 101,
   "metadata": {},
   "outputs": [],
   "source": [
    "res_diff = {}\n",
    "for i in uniq_race:    \n",
    "    now = dff[dff['updated_race'] == i]\n",
    "    num = np.abs(list(now.groupby('action').mean()['tract_to_msamd_income'].diff()))[1]\n",
    "    res_diff[i] = num"
   ]
  },
  {
   "cell_type": "code",
   "execution_count": 104,
   "metadata": {},
   "outputs": [
    {
     "data": {
      "text/plain": [
       "Text(0.5, 1.0, 'Difference in Mean Income Tract Percentile by Race')"
      ]
     },
     "execution_count": 104,
     "metadata": {},
     "output_type": "execute_result"
    },
    {
     "data": {
      "image/png": "[encoded data removed]",
      "text/plain": [
       "<Figure size 432x288 with 1 Axes>"
      ]
     },
     "metadata": {
      "needs_background": "light"
     },
     "output_type": "display_data"
    }
   ],
   "source": [
    "pd.Series(res_diff).plot(kind='barh')\n",
    "plt.ylabel('race')\n",
    "plt.xlabel('difference in mean income between approved and denied')\n",
    "plt.title('Difference in Mean Income Tract Percentile by Race')"
   ]
  },
  {
   "cell_type": "code",
   "execution_count": 39,
   "metadata": {},
   "outputs": [
    {
     "data": {
      "image/png": "[encoded data removed]",
      "text/plain": [
       "<Figure size 432x288 with 1 Axes>"
      ]
     },
     "metadata": {
      "needs_background": "light"
     },
     "output_type": "display_data"
    },
    {
     "data": {
      "image/png": "[encoded data removed]",
      "text/plain": [
       "<Figure size 432x288 with 1 Axes>"
      ]
     },
     "metadata": {
      "needs_background": "light"
     },
     "output_type": "display_data"
    },
    {
     "data": {
      "image/png": "[encoded data removed]",
      "text/plain": [
       "<Figure size 432x288 with 1 Axes>"
      ]
     },
     "metadata": {
      "needs_background": "light"
     },
     "output_type": "display_data"
    },
    {
     "data": {
      "image/png": "[encoded data removed]",
      "text/plain": [
       "<Figure size 432x288 with 1 Axes>"
      ]
     },
     "metadata": {
      "needs_background": "light"
     },
     "output_type": "display_data"
    },
    {
     "data": {
      "image/png": "[encoded data removed]",
      "text/plain": [
       "<Figure size 432x288 with 1 Axes>"
      ]
     },
     "metadata": {
      "needs_background": "light"
     },
     "output_type": "display_data"
    },
    {
     "data": {
      "image/png": "[encoded data removed]",
      "text/plain": [
       "<Figure size 432x288 with 1 Axes>"
      ]
     },
     "metadata": {
      "needs_background": "light"
     },
     "output_type": "display_data"
    }
   ],
   "source": [
    "lst = [np.array(w),np.array(a),np.array(b),np.array(hw),np.array(ai),np.array(hp)]\n",
    "count = 0\n",
    "for i in uniq_race:\n",
    "    curr = lst[count]\n",
    "    dff[dff['updated_race'] == i].plot(kind='box')\n",
    "    plt.axhline(curr[0], c='orange')\n",
    "    plt.axhline(curr[1], c='blue')\n",
    "    plt.ylim(0 , 250)\n",
    "    plt.title(i)\n",
    "    count += 1"
   ]
  },
  {
   "cell_type": "code",
   "execution_count": 40,
   "metadata": {},
   "outputs": [
    {
     "data": {
      "text/html": [
       "<div>\n",
       "<style scoped>\n",
       "    .dataframe tbody tr th:only-of-type {\n",
       "        vertical-align: middle;\n",
       "    }\n",
       "\n",
       "    .dataframe tbody tr th {\n",
       "        vertical-align: top;\n",
       "    }\n",
       "\n",
       "    .dataframe thead th {\n",
       "        text-align: right;\n",
       "    }\n",
       "</style>\n",
       "<table border=\"1\" class=\"dataframe\">\n",
       "  <thead>\n",
       "    <tr style=\"text-align: right;\">\n",
       "      <th></th>\n",
       "      <th>updated_race</th>\n",
       "      <th>action</th>\n",
       "      <th>tract_to_msamd_income</th>\n",
       "    </tr>\n",
       "  </thead>\n",
       "  <tbody>\n",
       "    <tr>\n",
       "      <th>1</th>\n",
       "      <td>White</td>\n",
       "      <td>Not approved</td>\n",
       "      <td>86.239998</td>\n",
       "    </tr>\n",
       "    <tr>\n",
       "      <th>3</th>\n",
       "      <td>White</td>\n",
       "      <td>Approved</td>\n",
       "      <td>74.290001</td>\n",
       "    </tr>\n",
       "    <tr>\n",
       "      <th>7</th>\n",
       "      <td>Asian</td>\n",
       "      <td>Not approved</td>\n",
       "      <td>116.010002</td>\n",
       "    </tr>\n",
       "    <tr>\n",
       "      <th>9</th>\n",
       "      <td>White</td>\n",
       "      <td>Approved</td>\n",
       "      <td>71.129997</td>\n",
       "    </tr>\n",
       "    <tr>\n",
       "      <th>10</th>\n",
       "      <td>Black or African American</td>\n",
       "      <td>Not approved</td>\n",
       "      <td>100.750000</td>\n",
       "    </tr>\n",
       "    <tr>\n",
       "      <th>...</th>\n",
       "      <td>...</td>\n",
       "      <td>...</td>\n",
       "      <td>...</td>\n",
       "    </tr>\n",
       "    <tr>\n",
       "      <th>14285487</th>\n",
       "      <td>White</td>\n",
       "      <td>Approved</td>\n",
       "      <td>120.540001</td>\n",
       "    </tr>\n",
       "    <tr>\n",
       "      <th>14285488</th>\n",
       "      <td>Asian</td>\n",
       "      <td>Not approved</td>\n",
       "      <td>138.639999</td>\n",
       "    </tr>\n",
       "    <tr>\n",
       "      <th>14285489</th>\n",
       "      <td>White</td>\n",
       "      <td>Not approved</td>\n",
       "      <td>208.770004</td>\n",
       "    </tr>\n",
       "    <tr>\n",
       "      <th>14285494</th>\n",
       "      <td>White</td>\n",
       "      <td>Not approved</td>\n",
       "      <td>88.519997</td>\n",
       "    </tr>\n",
       "    <tr>\n",
       "      <th>14285495</th>\n",
       "      <td>White</td>\n",
       "      <td>Not approved</td>\n",
       "      <td>88.519997</td>\n",
       "    </tr>\n",
       "  </tbody>\n",
       "</table>\n",
       "<p>9221483 rows × 3 columns</p>\n",
       "</div>"
      ],
      "text/plain": [
       "                       updated_race        action  tract_to_msamd_income\n",
       "1                             White  Not approved              86.239998\n",
       "3                             White      Approved              74.290001\n",
       "7                             Asian  Not approved             116.010002\n",
       "9                             White      Approved              71.129997\n",
       "10        Black or African American  Not approved             100.750000\n",
       "...                             ...           ...                    ...\n",
       "14285487                      White      Approved             120.540001\n",
       "14285488                      Asian  Not approved             138.639999\n",
       "14285489                      White  Not approved             208.770004\n",
       "14285494                      White  Not approved              88.519997\n",
       "14285495                      White  Not approved              88.519997\n",
       "\n",
       "[9221483 rows x 3 columns]"
      ]
     },
     "execution_count": 40,
     "metadata": {},
     "output_type": "execute_result"
    }
   ],
   "source": [
    "dff"
   ]
  },
  {
   "cell_type": "code",
   "execution_count": 72,
   "metadata": {},
   "outputs": [
    {
     "data": {
      "text/plain": [
       "Text(0, 0.5, 'race')"
      ]
     },
     "execution_count": 72,
     "metadata": {},
     "output_type": "execute_result"
    },
    {
     "data": {
      "image/png": "[encoded data removed]",
      "text/plain": [
       "<Figure size 432x288 with 1 Axes>"
      ]
     },
     "metadata": {
      "needs_background": "light"
     },
     "output_type": "display_data"
    }
   ],
   "source": [
    "dff.groupby('updated_race').mean().plot(kind='barh')\n",
    "plt.title('Average Income Percentile Within Tract by Race')\n",
    "plt.xlabel('Mean \"trace_to_msamd_income\"')\n",
    "plt.ylabel('race')"
   ]
  },
  {
   "cell_type": "code",
   "execution_count": 41,
   "metadata": {},
   "outputs": [],
   "source": [
    "group_total = dff.groupby('updated_race').count()"
   ]
  },
  {
   "cell_type": "code",
   "execution_count": 42,
   "metadata": {},
   "outputs": [
    {
     "data": {
      "text/html": [
       "<div>\n",
       "<style scoped>\n",
       "    .dataframe tbody tr th:only-of-type {\n",
       "        vertical-align: middle;\n",
       "    }\n",
       "\n",
       "    .dataframe tbody tr th {\n",
       "        vertical-align: top;\n",
       "    }\n",
       "\n",
       "    .dataframe thead th {\n",
       "        text-align: right;\n",
       "    }\n",
       "</style>\n",
       "<table border=\"1\" class=\"dataframe\">\n",
       "  <thead>\n",
       "    <tr style=\"text-align: right;\">\n",
       "      <th></th>\n",
       "      <th></th>\n",
       "      <th>tract_to_msamd_income</th>\n",
       "    </tr>\n",
       "    <tr>\n",
       "      <th>updated_race</th>\n",
       "      <th>action</th>\n",
       "      <th></th>\n",
       "    </tr>\n",
       "  </thead>\n",
       "  <tbody>\n",
       "    <tr>\n",
       "      <th rowspan=\"2\" valign=\"top\">American Indian or Alaska Native</th>\n",
       "      <th>Approved</th>\n",
       "      <td>56106</td>\n",
       "    </tr>\n",
       "    <tr>\n",
       "      <th>Not approved</th>\n",
       "      <td>26472</td>\n",
       "    </tr>\n",
       "    <tr>\n",
       "      <th rowspan=\"2\" valign=\"top\">Asian</th>\n",
       "      <th>Approved</th>\n",
       "      <td>471500</td>\n",
       "    </tr>\n",
       "    <tr>\n",
       "      <th>Not approved</th>\n",
       "      <td>86110</td>\n",
       "    </tr>\n",
       "    <tr>\n",
       "      <th rowspan=\"2\" valign=\"top\">Black or African American</th>\n",
       "      <th>Approved</th>\n",
       "      <td>525374</td>\n",
       "    </tr>\n",
       "    <tr>\n",
       "      <th>Not approved</th>\n",
       "      <td>239879</td>\n",
       "    </tr>\n",
       "    <tr>\n",
       "      <th rowspan=\"2\" valign=\"top\">Hispanic/Latino White</th>\n",
       "      <th>Approved</th>\n",
       "      <td>715814</td>\n",
       "    </tr>\n",
       "    <tr>\n",
       "      <th>Not approved</th>\n",
       "      <td>194737</td>\n",
       "    </tr>\n",
       "    <tr>\n",
       "      <th rowspan=\"2\" valign=\"top\">Native Hawaiian or Other Pacific Islander</th>\n",
       "      <th>Approved</th>\n",
       "      <td>35289</td>\n",
       "    </tr>\n",
       "    <tr>\n",
       "      <th>Not approved</th>\n",
       "      <td>10667</td>\n",
       "    </tr>\n",
       "    <tr>\n",
       "      <th rowspan=\"2\" valign=\"top\">White</th>\n",
       "      <th>Approved</th>\n",
       "      <td>5607252</td>\n",
       "    </tr>\n",
       "    <tr>\n",
       "      <th>Not approved</th>\n",
       "      <td>1060220</td>\n",
       "    </tr>\n",
       "  </tbody>\n",
       "</table>\n",
       "</div>"
      ],
      "text/plain": [
       "                                                        tract_to_msamd_income\n",
       "updated_race                              action                             \n",
       "American Indian or Alaska Native          Approved                      56106\n",
       "                                          Not approved                  26472\n",
       "Asian                                     Approved                     471500\n",
       "                                          Not approved                  86110\n",
       "Black or African American                 Approved                     525374\n",
       "                                          Not approved                 239879\n",
       "Hispanic/Latino White                     Approved                     715814\n",
       "                                          Not approved                 194737\n",
       "Native Hawaiian or Other Pacific Islander Approved                      35289\n",
       "                                          Not approved                  10667\n",
       "White                                     Approved                    5607252\n",
       "                                          Not approved                1060220"
      ]
     },
     "execution_count": 42,
     "metadata": {},
     "output_type": "execute_result"
    }
   ],
   "source": [
    "race_action = dff.groupby(['updated_race', 'action']).count()\n",
    "race_action"
   ]
  },
  {
   "cell_type": "code",
   "execution_count": 43,
   "metadata": {},
   "outputs": [
    {
     "data": {
      "text/html": [
       "<div>\n",
       "<style scoped>\n",
       "    .dataframe tbody tr th:only-of-type {\n",
       "        vertical-align: middle;\n",
       "    }\n",
       "\n",
       "    .dataframe tbody tr th {\n",
       "        vertical-align: top;\n",
       "    }\n",
       "\n",
       "    .dataframe thead th {\n",
       "        text-align: right;\n",
       "    }\n",
       "</style>\n",
       "<table border=\"1\" class=\"dataframe\">\n",
       "  <thead>\n",
       "    <tr style=\"text-align: right;\">\n",
       "      <th></th>\n",
       "      <th></th>\n",
       "      <th>action</th>\n",
       "      <th>tract_to_msamd_income</th>\n",
       "    </tr>\n",
       "    <tr>\n",
       "      <th>updated_race</th>\n",
       "      <th>action</th>\n",
       "      <th></th>\n",
       "      <th></th>\n",
       "    </tr>\n",
       "  </thead>\n",
       "  <tbody>\n",
       "    <tr>\n",
       "      <th rowspan=\"2\" valign=\"top\">American Indian or Alaska Native</th>\n",
       "      <th>Approved</th>\n",
       "      <td>NaN</td>\n",
       "      <td>0.679430</td>\n",
       "    </tr>\n",
       "    <tr>\n",
       "      <th>Not approved</th>\n",
       "      <td>NaN</td>\n",
       "      <td>0.320570</td>\n",
       "    </tr>\n",
       "    <tr>\n",
       "      <th rowspan=\"2\" valign=\"top\">Asian</th>\n",
       "      <th>Approved</th>\n",
       "      <td>NaN</td>\n",
       "      <td>0.845573</td>\n",
       "    </tr>\n",
       "    <tr>\n",
       "      <th>Not approved</th>\n",
       "      <td>NaN</td>\n",
       "      <td>0.154427</td>\n",
       "    </tr>\n",
       "    <tr>\n",
       "      <th rowspan=\"2\" valign=\"top\">Black or African American</th>\n",
       "      <th>Approved</th>\n",
       "      <td>NaN</td>\n",
       "      <td>0.686536</td>\n",
       "    </tr>\n",
       "    <tr>\n",
       "      <th>Not approved</th>\n",
       "      <td>NaN</td>\n",
       "      <td>0.313464</td>\n",
       "    </tr>\n",
       "    <tr>\n",
       "      <th rowspan=\"2\" valign=\"top\">Hispanic/Latino White</th>\n",
       "      <th>Approved</th>\n",
       "      <td>NaN</td>\n",
       "      <td>0.786133</td>\n",
       "    </tr>\n",
       "    <tr>\n",
       "      <th>Not approved</th>\n",
       "      <td>NaN</td>\n",
       "      <td>0.213867</td>\n",
       "    </tr>\n",
       "    <tr>\n",
       "      <th rowspan=\"2\" valign=\"top\">Native Hawaiian or Other Pacific Islander</th>\n",
       "      <th>Approved</th>\n",
       "      <td>NaN</td>\n",
       "      <td>0.767887</td>\n",
       "    </tr>\n",
       "    <tr>\n",
       "      <th>Not approved</th>\n",
       "      <td>NaN</td>\n",
       "      <td>0.232113</td>\n",
       "    </tr>\n",
       "    <tr>\n",
       "      <th rowspan=\"2\" valign=\"top\">White</th>\n",
       "      <th>Approved</th>\n",
       "      <td>NaN</td>\n",
       "      <td>0.840986</td>\n",
       "    </tr>\n",
       "    <tr>\n",
       "      <th>Not approved</th>\n",
       "      <td>NaN</td>\n",
       "      <td>0.159014</td>\n",
       "    </tr>\n",
       "  </tbody>\n",
       "</table>\n",
       "</div>"
      ],
      "text/plain": [
       "                                                        action  \\\n",
       "updated_race                              action                 \n",
       "American Indian or Alaska Native          Approved         NaN   \n",
       "                                          Not approved     NaN   \n",
       "Asian                                     Approved         NaN   \n",
       "                                          Not approved     NaN   \n",
       "Black or African American                 Approved         NaN   \n",
       "                                          Not approved     NaN   \n",
       "Hispanic/Latino White                     Approved         NaN   \n",
       "                                          Not approved     NaN   \n",
       "Native Hawaiian or Other Pacific Islander Approved         NaN   \n",
       "                                          Not approved     NaN   \n",
       "White                                     Approved         NaN   \n",
       "                                          Not approved     NaN   \n",
       "\n",
       "                                                        tract_to_msamd_income  \n",
       "updated_race                              action                               \n",
       "American Indian or Alaska Native          Approved                   0.679430  \n",
       "                                          Not approved               0.320570  \n",
       "Asian                                     Approved                   0.845573  \n",
       "                                          Not approved               0.154427  \n",
       "Black or African American                 Approved                   0.686536  \n",
       "                                          Not approved               0.313464  \n",
       "Hispanic/Latino White                     Approved                   0.786133  \n",
       "                                          Not approved               0.213867  \n",
       "Native Hawaiian or Other Pacific Islander Approved                   0.767887  \n",
       "                                          Not approved               0.232113  \n",
       "White                                     Approved                   0.840986  \n",
       "                                          Not approved               0.159014  "
      ]
     },
     "execution_count": 43,
     "metadata": {},
     "output_type": "execute_result"
    }
   ],
   "source": [
    "bar_data = race_action / group_total\n",
    "bar_data"
   ]
  },
  {
   "cell_type": "code",
   "execution_count": 44,
   "metadata": {},
   "outputs": [],
   "source": [
    "bar_dict_approved = {'American Indian or Alaska Native': 0.679430, \n",
    "            'Asian': 0.845573,\n",
    "            'Black or African American': 0.686536,\n",
    "            'Hispanic/Latino White': 0.786133,\n",
    "            'Native Hawaiian or Other Pacific Islander': 0.767887,\n",
    "            'White': 0.840986}\n",
    "\n",
    "bar_dict_denied = {'American Indian or Alaska Native': 1-0.679430, \n",
    "            'Asian': 1-0.845573,\n",
    "            'Black or African American': 1-0.686536,\n",
    "            'Hispanic/Latino White': 1-0.786133,\n",
    "            'Native Hawaiian or Other Pacific Islander': 1-0.767887,\n",
    "            'White': 1-0.840986}"
   ]
  },
  {
   "cell_type": "code",
   "execution_count": 45,
   "metadata": {},
   "outputs": [
    {
     "data": {
      "text/plain": [
       "Text(0.5, 1.0, 'Proportion of \"Approved\" by Race')"
      ]
     },
     "execution_count": 45,
     "metadata": {},
     "output_type": "execute_result"
    },
    {
     "data": {
      "image/png": "[encoded data removed]",
      "text/plain": [
       "<Figure size 432x288 with 1 Axes>"
      ]
     },
     "metadata": {
      "needs_background": "light"
     },
     "output_type": "display_data"
    }
   ],
   "source": [
    "pd.Series(bar_dict_approved).plot(kind='barh')\n",
    "plt.title('Proportion of \"Approved\" by Race')"
   ]
  },
  {
   "cell_type": "code",
   "execution_count": 140,
   "metadata": {},
   "outputs": [
    {
     "data": {
      "text/plain": [
       "Text(0, 0.5, 'Race')"
      ]
     },
     "execution_count": 140,
     "metadata": {},
     "output_type": "execute_result"
    },
    {
     "data": {
      "image/png": "[encoded data removed]",
      "text/plain": [
       "<Figure size 432x288 with 1 Axes>"
      ]
     },
     "metadata": {
      "needs_background": "light"
     },
     "output_type": "display_data"
    }
   ],
   "source": [
    "pd.Series(bar_dict_denied).plot(kind='barh')\n",
    "plt.title('Proportion of \"Not approved\" by Race in 2017')\n",
    "plt.xlabel('Proportion')\n",
    "plt.ylabel('Race')"
   ]
  },
  {
   "cell_type": "code",
   "execution_count": 153,
   "metadata": {},
   "outputs": [
    {
     "data": {
      "text/plain": [
       "<matplotlib.legend.Legend at 0x1422b3970>"
      ]
     },
     "execution_count": 153,
     "metadata": {},
     "output_type": "execute_result"
    },
    {
     "data": {
      "image/png": "[encoded data removed]",
      "text/plain": [
       "<Figure size 432x288 with 1 Axes>"
      ]
     },
     "metadata": {
      "needs_background": "light"
     },
     "output_type": "display_data"
    }
   ],
   "source": [
    "dff.groupby(['updated_race', 'action']).median().unstack().plot(kind='barh')\n",
    "plt.ylabel('Race')\n",
    "plt.xlabel('Median Income Percentile')\n",
    "plt.title('Median Income Percentiles for Approve and Not approved by Race')\n",
    "handles, labels = plt.gca().get_legend_handles_labels()\n",
    "order = [1,0]\n",
    "plt.legend([handles[idx] for idx in order],[labels[idx] for idx in order], bbox_to_anchor=(1, 1)) \n"
   ]
  },
  {
   "cell_type": "code",
   "execution_count": 159,
   "metadata": {},
   "outputs": [
    {
     "data": {
      "text/plain": [
       "Text(0.5, 1.0, 'Recall Scores per Race')"
      ]
     },
     "execution_count": 159,
     "metadata": {},
     "output_type": "execute_result"
    },
    {
     "data": {
      "image/png": "[encoded data removed]",
      "text/plain": [
       "<Figure size 432x288 with 1 Axes>"
      ]
     },
     "metadata": {
      "needs_background": "light"
     },
     "output_type": "display_data"
    }
   ],
   "source": [
    "fairness = {'Asian':.8568,\n",
    "'White': .8518,\n",
    "'Hispanic/Latino White': .8059,\n",
    "'Native Hawaiian or Other Pacific Islander':.8004,\n",
    "'American Indian or Alaska Native':.7264,\n",
    "'Black/African American': .7226\n",
    "}\n",
    "\n",
    "pd.Series(fairness).plot(kind='barh')\n",
    "plt.xlabel('Recall Scores')\n",
    "plt.ylabel('Race')\n",
    "plt.title('Recall Scores per Race')"
   ]
  },
  {
   "cell_type": "code",
   "execution_count": null,
   "metadata": {},
   "outputs": [],
   "source": []
  }
 ],
 "metadata": {
  "interpreter": {
   "hash": "b0fa6594d8f4cbf19f97940f81e996739fb7646882a419484c72d19e05852a7e"
  },
  "kernelspec": {
   "display_name": "Python 3.9.10 64-bit",
   "language": "python",
   "name": "python3"
  },
  "language_info": {
   "codemirror_mode": {
    "name": "ipython",
    "version": 3
   },
   "file_extension": ".py",
   "mimetype": "text/x-python",
   "name": "python",
   "nbconvert_exporter": "python",
   "pygments_lexer": "ipython3",
   "version": "3.9.10"
  },
  "orig_nbformat": 4
 },
 "nbformat": 4,
 "nbformat_minor": 2
}
